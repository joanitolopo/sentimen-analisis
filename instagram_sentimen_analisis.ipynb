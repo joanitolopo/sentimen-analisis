{
 "cells": [
  {
   "cell_type": "markdown",
   "metadata": {},
   "source": [
    "Dataset yang digunakan dapat didownload di: https://github.com/rizalespe/Dataset-Sentimen-Analisis-Bahasa-Indonesia atau menggunakan ***git clone*** seperti contoh dibawah ini. Folder yang di _clone_ tersimpan ke dalam folder tempat file project ini disimpan."
   ]
  },
  {
   "cell_type": "code",
   "execution_count": 1,
   "metadata": {
    "colab": {
     "base_uri": "https://localhost:8080/"
    },
    "id": "uQhkN4DG2gXb",
    "outputId": "120f7340-a07e-4a82-b0a2-7b7de9bc2337"
   },
   "outputs": [],
   "source": [
    "#!git clone https://github.com/rizalespe/Dataset-Sentimen-Analisis-Bahasa-Indonesia"
   ]
  },
  {
   "cell_type": "markdown",
   "metadata": {
    "id": "GQLN-l93iF2B"
   },
   "source": [
    "## Install Package"
   ]
  },
  {
   "cell_type": "markdown",
   "metadata": {},
   "source": [
    "**Requirement Package**:\n",
    "\n",
    "```\n",
    "1. nltk : https://www.nltk.org/\n",
    "2. Sastrawi: https://github.com/sastrawi/sastrawi\n",
    "3. numpy: https://numpy.org/\n",
    "4. pandas: https://pandas.pydata.org/\n",
    "5. sklearn: https://scikit-learn.org/stable/\n",
    "\n",
    "```"
   ]
  },
  {
   "cell_type": "markdown",
   "metadata": {
    "id": "LZMhPthAicoE"
   },
   "source": [
    "# Import Package"
   ]
  },
  {
   "cell_type": "code",
   "execution_count": 3,
   "metadata": {},
   "outputs": [],
   "source": [
    "#!pip install Sastrawi\n",
    "#nltk.download('stopwords')\n",
    "#nltk.download('punkt')"
   ]
  },
  {
   "cell_type": "code",
   "execution_count": 2,
   "metadata": {
    "id": "uq4zAXNPih6-"
   },
   "outputs": [],
   "source": [
    "import numpy as np\n",
    "import pandas as pd\n",
    "import re\n",
    "import pickle\n",
    "from string import punctuation\n",
    "import os\n",
    "import json\n",
    "\n",
    "from nltk.corpus import stopwords\n",
    "from nltk.tokenize import word_tokenize\n",
    "\n",
    "from Sastrawi.Stemmer.StemmerFactory import StemmerFactory\n",
    "from Sastrawi.StopWordRemover.StopWordRemoverFactory import StopWordRemoverFactory\n",
    "\n",
    "from sklearn.model_selection import train_test_split"
   ]
  },
  {
   "cell_type": "markdown",
   "metadata": {
    "id": "Nh5funiyhB5G"
   },
   "source": [
    "# ```{Utils}```"
   ]
  },
  {
   "cell_type": "code",
   "execution_count": 5,
   "metadata": {
    "id": "UW6_M8jhgyy-"
   },
   "outputs": [],
   "source": [
    "def process_tweet(tweet):\n",
    "    \n",
    "    # kumpulan stemming\n",
    "    factory_stem = StemmerFactory()\n",
    "    stemmer = factory_stem.create_stemmer()\n",
    "\n",
    "    # kumpulan stopwords\n",
    "    factory_stopwords = StopWordRemoverFactory()\n",
    "    stopword = factory_stopwords.get_stop_words() + stopwords.words('indonesian')\n",
    "  \n",
    "    # menghapus kata-kata yang tidak penting seperti @, #\n",
    "    tweet = re.sub(r'\\$\\w*', '', tweet)\n",
    "    tweet = re.sub(r'^RT[\\s]+', '', tweet)\n",
    "    tweet = re.sub(r'https?:\\/\\/.*[\\r\\n]*', '', tweet)\n",
    "    tweet = re.sub(r'#', '', tweet)\n",
    "    tweet = re.sub(r'<USERNAME>', '', tweet)\n",
    "    \n",
    "    # tokenizer word\n",
    "    tweet_tokens = word_tokenize(tweet)\n",
    "    \n",
    "    # membersihkan word\n",
    "    tweets_clean = [stemmer.stem(word) for word in tweet_tokens if (word not in stopword and word not in punctuation)]\n",
    "  \n",
    "    return tweets_clean"
   ]
  },
  {
   "cell_type": "code",
   "execution_count": 6,
   "metadata": {
    "id": "cKzrfhkFqV3K"
   },
   "outputs": [],
   "source": [
    "def build_freqs(tweets, ys):\n",
    "    \n",
    "    yslist = np.squeeze(ys).tolist()\n",
    "    \n",
    "    freqs = {}\n",
    "    for y, tweet in zip(yslist, tweets):\n",
    "        for word in process_tweet(tweet):\n",
    "            pair = (word, y)\n",
    "            if pair in freqs:\n",
    "                freqs[pair] += 1\n",
    "            else:\n",
    "                freqs[pair] = 1\n",
    "    return freqs"
   ]
  },
  {
   "cell_type": "markdown",
   "metadata": {
    "id": "Hmi7dW_Ttakm"
   },
   "source": [
    "# Processing data"
   ]
  },
  {
   "cell_type": "markdown",
   "metadata": {
    "id": "wLVQNDWptjJF"
   },
   "source": [
    "### Import data"
   ]
  },
  {
   "cell_type": "code",
   "execution_count": 21,
   "metadata": {
    "id": "OnmXDdv7ia_u"
   },
   "outputs": [],
   "source": [
    "df = pd.read_csv(\"data/dataset_komentar_instagram_cyberbullying.csv\")"
   ]
  },
  {
   "cell_type": "code",
   "execution_count": 22,
   "metadata": {
    "colab": {
     "base_uri": "https://localhost:8080/",
     "height": 204
    },
    "id": "upLfzDUrihHG",
    "outputId": "bdc4f034-0896-4e6d-9375-fd848593a09d"
   },
   "outputs": [
    {
     "data": {
      "text/html": [
       "<div>\n",
       "<style scoped>\n",
       "    .dataframe tbody tr th:only-of-type {\n",
       "        vertical-align: middle;\n",
       "    }\n",
       "\n",
       "    .dataframe tbody tr th {\n",
       "        vertical-align: top;\n",
       "    }\n",
       "\n",
       "    .dataframe thead th {\n",
       "        text-align: right;\n",
       "    }\n",
       "</style>\n",
       "<table border=\"1\" class=\"dataframe\">\n",
       "  <thead>\n",
       "    <tr style=\"text-align: right;\">\n",
       "      <th></th>\n",
       "      <th>Id</th>\n",
       "      <th>Sentiment</th>\n",
       "      <th>Instagram Comment Text</th>\n",
       "    </tr>\n",
       "  </thead>\n",
       "  <tbody>\n",
       "    <tr>\n",
       "      <th>0</th>\n",
       "      <td>1</td>\n",
       "      <td>negative</td>\n",
       "      <td>&lt;USERNAME&gt; TOLOL!! Gak ada hubungan nya kegug...</td>\n",
       "    </tr>\n",
       "    <tr>\n",
       "      <th>1</th>\n",
       "      <td>2</td>\n",
       "      <td>negative</td>\n",
       "      <td>Geblek lo tata...cowo bgt dibela2in balikan......</td>\n",
       "    </tr>\n",
       "    <tr>\n",
       "      <th>2</th>\n",
       "      <td>3</td>\n",
       "      <td>negative</td>\n",
       "      <td>Kmrn termewek2 skr lengket lg duhhh kok labil ...</td>\n",
       "    </tr>\n",
       "    <tr>\n",
       "      <th>3</th>\n",
       "      <td>4</td>\n",
       "      <td>negative</td>\n",
       "      <td>Intinya kalau kesel dengan ATT nya, gausah ke ...</td>\n",
       "    </tr>\n",
       "    <tr>\n",
       "      <th>4</th>\n",
       "      <td>5</td>\n",
       "      <td>negative</td>\n",
       "      <td>hadewwwww permpuan itu lg!!!!sakit jiwa,knp ha...</td>\n",
       "    </tr>\n",
       "  </tbody>\n",
       "</table>\n",
       "</div>"
      ],
      "text/plain": [
       "   Id Sentiment                             Instagram Comment Text\n",
       "0   1  negative   <USERNAME> TOLOL!! Gak ada hubungan nya kegug...\n",
       "1   2  negative  Geblek lo tata...cowo bgt dibela2in balikan......\n",
       "2   3  negative  Kmrn termewek2 skr lengket lg duhhh kok labil ...\n",
       "3   4  negative  Intinya kalau kesel dengan ATT nya, gausah ke ...\n",
       "4   5  negative  hadewwwww permpuan itu lg!!!!sakit jiwa,knp ha..."
      ]
     },
     "execution_count": 22,
     "metadata": {},
     "output_type": "execute_result"
    }
   ],
   "source": [
    "df.head()"
   ]
  },
  {
   "cell_type": "code",
   "execution_count": 23,
   "metadata": {
    "colab": {
     "base_uri": "https://localhost:8080/"
    },
    "id": "eIOQcJYdodwa",
    "outputId": "ad5180ad-9eee-4e09-c645-9cc84d24a9fa"
   },
   "outputs": [
    {
     "data": {
      "text/plain": [
       "negative    200\n",
       "positive    200\n",
       "Name: Sentiment, dtype: int64"
      ]
     },
     "execution_count": 23,
     "metadata": {},
     "output_type": "execute_result"
    }
   ],
   "source": [
    "df.Sentiment.value_counts()"
   ]
  },
  {
   "cell_type": "code",
   "execution_count": 24,
   "metadata": {
    "id": "pCoOr7tSzPNC"
   },
   "outputs": [],
   "source": [
    "df.loc[(df.Sentiment == 'negative'),'Sentiment']=0\n",
    "df.loc[(df.Sentiment == 'positive'),'Sentiment']=1"
   ]
  },
  {
   "cell_type": "code",
   "execution_count": 25,
   "metadata": {
    "id": "fjogwFsJv887"
   },
   "outputs": [],
   "source": [
    "X = pd.DataFrame(df['Instagram Comment Text'])\n",
    "y = df.Sentiment"
   ]
  },
  {
   "cell_type": "code",
   "execution_count": 26,
   "metadata": {
    "id": "yn0a5Qw1uuiB"
   },
   "outputs": [],
   "source": [
    "X_train, X_test, y_train, y_test = train_test_split(X, y, test_size=0.2, random_state=42)"
   ]
  },
  {
   "cell_type": "code",
   "execution_count": 27,
   "metadata": {
    "id": "9O8VIbfl0inp"
   },
   "outputs": [],
   "source": [
    "X_train = X_train.values.squeeze().tolist()\n",
    "X_test = X_test.values.squeeze().tolist()\n",
    "y_train = np.array([y_train.values.squeeze().tolist()])\n",
    "y_test = np.array([y_test.values.squeeze().tolist()])"
   ]
  },
  {
   "cell_type": "code",
   "execution_count": 28,
   "metadata": {},
   "outputs": [
    {
     "data": {
      "text/plain": [
       "'Intinya kalau kesel dengan ATT nya, gausah ke anaknya juga. Kasian buat perkembangan psikis anak kedepannya. Itu orang bener bener tolol, skrg seandainya dia punya anak, terus anaknya dikatain sama orang yang benci sama dia, gimana perasaan dia ? Benci sama seseorang boleh, tapi harus tau batesnya ?? toh namanya manusia, gaakan semua jadi penyuka, pasti ada haters ??'"
      ]
     },
     "execution_count": 28,
     "metadata": {},
     "output_type": "execute_result"
    }
   ],
   "source": [
    "X_train[0]"
   ]
  },
  {
   "cell_type": "markdown",
   "metadata": {
    "id": "hEOOD0DD0HN9"
   },
   "source": [
    "### Build Freqs"
   ]
  },
  {
   "cell_type": "markdown",
   "metadata": {},
   "source": [
    "Cell bisa dijalankan atau langsung saja import file `freqs.json`"
   ]
  },
  {
   "cell_type": "code",
   "execution_count": 29,
   "metadata": {
    "colab": {
     "base_uri": "https://localhost:8080/"
    },
    "id": "mFFFA72t0GJa",
    "outputId": "c733f0af-f623-4fb2-ff84-c20ac78dfc72"
   },
   "outputs": [],
   "source": [
    "# freqs = build_freqs(X_train, y_train)"
   ]
  },
  {
   "cell_type": "code",
   "execution_count": 30,
   "metadata": {},
   "outputs": [
    {
     "name": "stdout",
     "output_type": "stream",
     "text": [
      "type(freqs) = <class 'dict'>\n",
      "len(freqs) = 2772\n"
     ]
    }
   ],
   "source": [
    "# check output\n",
    "print(\"type(freqs) = \" + str(type(freqs)))\n",
    "print(\"len(freqs) = \" + str(len(freqs.keys())))"
   ]
  },
  {
   "cell_type": "markdown",
   "metadata": {},
   "source": [
    "### save data"
   ]
  },
  {
   "cell_type": "code",
   "execution_count": 31,
   "metadata": {},
   "outputs": [],
   "source": [
    "# os.makedirs(name=\"data\", exist_ok=True)"
   ]
  },
  {
   "cell_type": "code",
   "execution_count": 32,
   "metadata": {
    "id": "pKzNnojlKVml"
   },
   "outputs": [],
   "source": [
    "#with open('data/freqs.json', 'wb') as fp:\n",
    "    #pickle.dump(freqs, fp)"
   ]
  },
  {
   "cell_type": "markdown",
   "metadata": {},
   "source": [
    "### load data"
   ]
  },
  {
   "cell_type": "code",
   "execution_count": 33,
   "metadata": {},
   "outputs": [],
   "source": [
    "with open('data/freqs.json', 'rb') as f:\n",
    "    freqs = pickle.load(f)"
   ]
  },
  {
   "cell_type": "code",
   "execution_count": 34,
   "metadata": {},
   "outputs": [
    {
     "data": {
      "text/plain": [
       "{('inti', 0): 1,\n",
       " ('kesel', 0): 1,\n",
       " ('att', 0): 8,\n",
       " ('nya', 0): 41,\n",
       " ('gausah', 0): 1,\n",
       " ('anak', 0): 22,\n",
       " ('kasi', 0): 4,\n",
       " ('kembang', 0): 1,\n",
       " ('psikis', 0): 1,\n",
       " ('depan', 0): 2,\n",
       " ('itu', 0): 2,\n",
       " ('orang', 0): 26,\n",
       " ('bener', 0): 6,\n",
       " ('tolol', 0): 4,\n",
       " ('skrg', 0): 9,\n",
       " ('anda', 0): 2,\n",
       " ('dikatain', 0): 1,\n",
       " ('benci', 0): 6,\n",
       " ('gimana', 0): 1,\n",
       " ('asa', 0): 2,\n",
       " ('tau', 0): 16,\n",
       " ('batesnya', 0): 1,\n",
       " ('nama', 0): 8,\n",
       " ('manusia', 0): 11,\n",
       " ('gaakan', 0): 1,\n",
       " ('suka', 0): 10,\n",
       " ('haters', 0): 2,\n",
       " ('yaa', 0): 4,\n",
       " ('ampun', 0): 3,\n",
       " ('upil', 0): 2,\n",
       " ('naruto', 0): 1,\n",
       " ('kata2nya', 0): 1,\n",
       " ('cermin', 0): 2,\n",
       " ('klo', 0): 8,\n",
       " ('yg', 0): 88,\n",
       " ('pecun', 0): 2,\n",
       " ('alam', 0): 2,\n",
       " ('banget', 0): 15,\n",
       " ('lu', 0): 14,\n",
       " ('kesi', 0): 1,\n",
       " ('gua', 0): 6,\n",
       " ('prihatin', 0): 1,\n",
       " ('mati', 0): 2,\n",
       " ('aj', 0): 8,\n",
       " ('deh', 0): 9,\n",
       " ('ngotorin', 0): 1,\n",
       " ('dunia', 0): 5,\n",
       " ('kau', 0): 3,\n",
       " ('yg', 1): 80,\n",
       " ('komen', 1): 3,\n",
       " ('si', 1): 6,\n",
       " ('mbak', 1): 17,\n",
       " ('ga', 1): 36,\n",
       " ('sedih', 1): 5,\n",
       " ('ketawa2', 1): 1,\n",
       " ('iya', 1): 3,\n",
       " ('klo', 1): 13,\n",
       " ('dah', 1): 2,\n",
       " ('sakit', 1): 4,\n",
       " ('sm', 1): 12,\n",
       " ('pasang', 1): 8,\n",
       " ('smpe', 1): 1,\n",
       " ('berlarut2', 1): 1,\n",
       " ('ngapain', 1): 1,\n",
       " ('sih', 1): 8,\n",
       " ('ampe', 1): 1,\n",
       " ('depresi', 1): 1,\n",
       " ('segala', 1): 1,\n",
       " ('serahin', 1): 1,\n",
       " ('allah', 1): 17,\n",
       " ('aja bawa', 1): 1,\n",
       " ('happy', 1): 5,\n",
       " ('aja', 1): 21,\n",
       " ('mski', 1): 1,\n",
       " ('mba', 1): 13,\n",
       " ('senyum2', 1): 1,\n",
       " ('wajah', 1): 5,\n",
       " ('tp', 1): 7,\n",
       " ('hati', 1): 12,\n",
       " ('tau', 1): 7,\n",
       " ('', 1): 85,\n",
       " ('senyum', 1): 3,\n",
       " ('bs', 1): 4,\n",
       " ('jd', 1): 15,\n",
       " ('menetralisir', 1): 1,\n",
       " ('kondisi', 1): 1,\n",
       " ('lg', 1): 6,\n",
       " ('puruk', 1): 1,\n",
       " ('pepatah', 1): 2,\n",
       " ('bilang', 1): 7,\n",
       " ('bahagia', 1): 14,\n",
       " ('jgn', 1): 6,\n",
       " ('trllu', 1): 2,\n",
       " ('imbang', 1): 1,\n",
       " ('biar', 1): 5,\n",
       " ('gila', 1): 1,\n",
       " ('go', 1): 4,\n",
       " ('a', 1): 1,\n",
       " ('head', 1): 1,\n",
       " ('via', 1): 3,\n",
       " ('cuekin', 1): 1,\n",
       " ('udah', 1): 13,\n",
       " ('gaul', 1): 2,\n",
       " ('dunia', 1): 7,\n",
       " ('kerja', 1): 5,\n",
       " ('masyarakat', 1): 1,\n",
       " ('ertong', 1): 1,\n",
       " ('pasti', 1): 2,\n",
       " ('gatel', 1): 1,\n",
       " ('bin', 1): 1,\n",
       " ('sirik', 1): 2,\n",
       " ('liat', 1): 12,\n",
       " ('orang', 1): 10,\n",
       " ('sukses', 1): 7,\n",
       " ('anggep', 1): 1,\n",
       " ('kuman', 1): 1,\n",
       " ('gak', 1): 13,\n",
       " ('bikin', 1): 5,\n",
       " ('status', 1): 1,\n",
       " ('neng', 1): 3,\n",
       " ('bahan', 1): 1,\n",
       " ('ngetawain', 1): 1,\n",
       " ('betul', 1): 1,\n",
       " ('bagussss', 1): 1,\n",
       " ('dandan', 1): 4,\n",
       " ('natural', 1): 4,\n",
       " ('permak', 1): 2,\n",
       " ('kayak', 1): 4,\n",
       " ('anak', 1): 28,\n",
       " ('jaman', 1): 5,\n",
       " ('now', 1): 4,\n",
       " ('gak', 0): 32,\n",
       " ('sok', 0): 13,\n",
       " ('high', 0): 1,\n",
       " ('class', 0): 1,\n",
       " ('mba', 0): 11,\n",
       " ('liat', 0): 12,\n",
       " ('komenmu', 0): 1,\n",
       " ('artis', 0): 24,\n",
       " ('beda2', 0): 1,\n",
       " ('mbak', 0): 6,\n",
       " ('curhat', 0): 5,\n",
       " ('ig', 0): 3,\n",
       " ('temen', 0): 1,\n",
       " ('tuhan', 0): 6,\n",
       " ('', 0): 82,\n",
       " ('ngak', 0): 1,\n",
       " ('trus', 0): 3,\n",
       " ('mulut', 0): 7,\n",
       " ('situ', 0): 5,\n",
       " ('maju', 0): 1,\n",
       " ('otak', 0): 15,\n",
       " ('mikirnya', 0): 1,\n",
       " ('curh', 0): 1,\n",
       " ('sptnya', 1): 1,\n",
       " ('siyok', 1): 1,\n",
       " ('kejam', 1): 1,\n",
       " ('artis', 1): 14,\n",
       " ('an', 1): 1,\n",
       " ('mudah2an', 1): 1,\n",
       " ('tetep', 1): 2,\n",
       " ('sabar', 1): 4,\n",
       " ('karya', 1): 4,\n",
       " ('dg', 1): 1,\n",
       " ('smnjk', 1): 1,\n",
       " ('hbs', 1): 2,\n",
       " ('nikah', 1): 14,\n",
       " ('aura', 1): 2,\n",
       " ('keluarr', 1): 1,\n",
       " ('bgt', 1): 18,\n",
       " ('suami', 1): 15,\n",
       " ('jg', 1): 11,\n",
       " ('kliatan', 1): 4,\n",
       " ('syg', 1): 4,\n",
       " ('nia', 1): 3,\n",
       " ('nya', 1): 25,\n",
       " ('gt', 1): 2,\n",
       " ('tulusss', 1): 1,\n",
       " ('sukak', 1): 3,\n",
       " ('deh', 1): 9,\n",
       " ('dasar', 0): 12,\n",
       " ('anjing', 0): 6,\n",
       " ('tuh', 0): 10,\n",
       " ('cowok', 0): 5,\n",
       " ('org', 0): 27,\n",
       " ('berani', 0): 4,\n",
       " ('one', 0): 2,\n",
       " ('by', 0): 1,\n",
       " ('lemah', 0): 1,\n",
       " ('yah', 0): 4,\n",
       " ('cowok2', 0): 1,\n",
       " ('jaman', 0): 5,\n",
       " ('casing', 0): 1,\n",
       " ('doank', 0): 1,\n",
       " ('nyali', 0): 1,\n",
       " ('lebih2', 0): 1,\n",
       " ('banci', 0): 9,\n",
       " ('dia', 0): 3,\n",
       " ('perempuan', 0): 15,\n",
       " ('lho', 0): 1,\n",
       " ('ibu', 0): 1,\n",
       " ('contohin', 0): 1,\n",
       " ('jelek', 0): 10,\n",
       " ('jauh', 0): 1,\n",
       " ('becus', 0): 14,\n",
       " ('amit', 0): 4,\n",
       " ('terimakasih', 1): 1,\n",
       " ('ibu', 1): 7,\n",
       " ('keluarga', 1): 20,\n",
       " ('pilih', 1): 6,\n",
       " ('plataran', 1): 2,\n",
       " ('darmawangsa', 1): 2,\n",
       " ('acara', 1): 1,\n",
       " ('besar', 1): 1,\n",
       " ('saya', 1): 2,\n",
       " ('staff', 1): 1,\n",
       " ('kes', 1): 1,\n",
       " ('tunggu', 1): 2,\n",
       " ('datang', 1): 2,\n",
       " ('sehat', 1): 12,\n",
       " ('amin', 1): 5,\n",
       " ('rabbi', 1): 1,\n",
       " ('cantik', 1): 31,\n",
       " ('manis', 1): 2,\n",
       " ('cewe', 1): 2,\n",
       " ('cocok', 1): 3,\n",
       " ('bilang', 0): 8,\n",
       " ('tu', 0): 8,\n",
       " ('kuin', 0): 2,\n",
       " ('gesek', 0): 1,\n",
       " ('grepe', 0): 1,\n",
       " ('ama', 0): 9,\n",
       " ('lakik', 0): 2,\n",
       " ('orng', 0): 4,\n",
       " ('ga', 0): 32,\n",
       " ('malu', 0): 9,\n",
       " ('udh', 0): 15,\n",
       " ('hamil', 0): 3,\n",
       " ('nikah', 0): 12,\n",
       " ('kegatelan', 0): 3,\n",
       " ('janda', 0): 5,\n",
       " ('suka', 1): 18,\n",
       " ('pidatox', 1): 1,\n",
       " ('dy', 1): 8,\n",
       " ('pembawaanx', 1): 1,\n",
       " ('bgtu', 1): 1,\n",
       " ('elegan', 1): 1,\n",
       " ('n', 1): 18,\n",
       " ('brwibawah', 1): 1,\n",
       " ('pntas', 1): 1,\n",
       " ('mmg', 1): 1,\n",
       " ('mdptkan salut', 1): 1,\n",
       " ('iya', 0): 7,\n",
       " ('km', 0): 2,\n",
       " ('bening', 0): 2,\n",
       " ('lewat', 0): 1,\n",
       " ('buluk', 0): 2,\n",
       " ('nelen', 0): 1,\n",
       " ('apasih', 0): 1,\n",
       " ('komen', 0): 4,\n",
       " ('kaya', 0): 15,\n",
       " ('gin', 0): 7,\n",
       " ('apa', 0): 5,\n",
       " ('surup', 0): 1,\n",
       " ('enak', 1): 4,\n",
       " ('banget', 1): 30,\n",
       " ('mak', 1): 1,\n",
       " ('lagu2', 1): 1,\n",
       " ('album', 1): 1,\n",
       " ('inih', 1): 1,\n",
       " ('beautiful', 1): 1,\n",
       " ('mistake', 1): 1,\n",
       " ('ganteng', 1): 14,\n",
       " ('ini', 1): 5,\n",
       " ('salah', 1): 4,\n",
       " ('managernya', 1): 1,\n",
       " ('moga', 1): 24,\n",
       " ('d', 1): 5,\n",
       " ('lancar', 1): 9,\n",
       " ('yaa', 1): 7,\n",
       " ('baguass', 1): 1,\n",
       " ('smoga', 1): 3,\n",
       " ('kelak', 1): 1,\n",
       " ('kluarga', 1): 1,\n",
       " ('samawa', 1): 4,\n",
       " ('barakallah', 1): 1,\n",
       " ('cucu2', 1): 3,\n",
       " ('sholeh', 1): 3,\n",
       " ('sholeha', 1): 1,\n",
       " ('bangga', 1): 10,\n",
       " ('kelg', 1): 1,\n",
       " ('gue', 0): 10,\n",
       " ('gangerti', 0): 1,\n",
       " ('kalo', 0): 16,\n",
       " ('via', 0): 3,\n",
       " ('vallen', 0): 1,\n",
       " ('bikin', 0): 10,\n",
       " ('status', 0): 2,\n",
       " ('sangkut', 0): 2,\n",
       " ('pautin', 0): 2,\n",
       " ('mulu', 0): 4,\n",
       " ('aja', 0): 37,\n",
       " ('fansnya', 0): 1,\n",
       " ('sih', 0): 16,\n",
       " ('jg', 0): 9,\n",
       " ('lama', 0): 1,\n",
       " ('gerah', 0): 1,\n",
       " ('kali', 0): 9,\n",
       " ('kualitas', 1): 2,\n",
       " ('itulohhh', 1): 1,\n",
       " ('hihi', 1): 2,\n",
       " ('bangetsss', 1): 1,\n",
       " ('top', 1): 1,\n",
       " ('pake', 1): 5,\n",
       " ('drama', 1): 1,\n",
       " ('gimick', 1): 1,\n",
       " ('idupnya', 1): 1,\n",
       " ('tajir', 1): 2,\n",
       " ('sederhana', 1): 4,\n",
       " ('wahh', 0): 1,\n",
       " ('jngn2', 0): 1,\n",
       " ('vidio', 0): 1,\n",
       " ('baju', 0): 2,\n",
       " ('norak', 0): 4,\n",
       " ('bngtt', 0): 1,\n",
       " ('ayuu', 0): 1,\n",
       " ('murahaan', 0): 1,\n",
       " ('ngamuk hidup', 0): 1,\n",
       " ('dmana2', 0): 1,\n",
       " ('pny', 0): 5,\n",
       " ('musuh udh', 0): 1,\n",
       " ('kliatan', 0): 1,\n",
       " ('mna', 0): 2,\n",
       " ('bukan org', 0): 1,\n",
       " ('byk', 0): 1,\n",
       " ('musuh', 0): 1,\n",
       " ('kn', 0): 2,\n",
       " ('y', 0): 5,\n",
       " ('agnes', 0): 1,\n",
       " ('mo', 0): 1,\n",
       " ('bnyk', 0): 3,\n",
       " ('harga', 0): 3,\n",
       " ('ny', 0): 10,\n",
       " ('tp', 0): 10,\n",
       " ('g', 0): 6,\n",
       " ('kampung', 0): 15,\n",
       " ('beda', 0): 3,\n",
       " ('am', 0): 1,\n",
       " ('langsung', 0): 1,\n",
       " ('maksud', 0): 1,\n",
       " ('klu', 0): 1,\n",
       " ('munafik', 0): 6,\n",
       " ('krn', 0): 3,\n",
       " ('rakyat', 0): 1,\n",
       " ('indonesia', 0): 2,\n",
       " ('bodoh', 0): 6,\n",
       " ('tdk', 0): 2,\n",
       " ('buruk', 0): 7,\n",
       " ('sdh', 0): 3,\n",
       " ('prilaku', 0): 1,\n",
       " ('sopan', 0): 1,\n",
       " ('santun', 0): 1,\n",
       " ('pilih', 0): 1,\n",
       " ('jd', 0): 13,\n",
       " ('panutan', 0): 2,\n",
       " ('lebih', 0): 3,\n",
       " ('idola', 0): 1,\n",
       " ('murah', 0): 4,\n",
       " ('dr', 0): 9,\n",
       " ('pd', 0): 2,\n",
       " ('kelas', 0): 5,\n",
       " ('ber', 0): 1,\n",
       " ('etika', 0): 1,\n",
       " ('cuman', 0): 2,\n",
       " ('jual', 0): 2,\n",
       " ('goyang', 0): 1,\n",
       " ('yak', 0): 3,\n",
       " ('suara', 0): 4,\n",
       " ('taik', 0): 4,\n",
       " ('goblok', 0): 5,\n",
       " ('nonton', 0): 3,\n",
       " ('kaget', 0): 1,\n",
       " ('alesha', 1): 1,\n",
       " ('arti', 1): 2,\n",
       " ('nama', 1): 1,\n",
       " ('yang', 1): 2,\n",
       " ('lindung', 1): 5,\n",
       " ('aamiin', 1): 2,\n",
       " ('yra', 1): 1,\n",
       " ('nak', 1): 1,\n",
       " ('kakak', 1): 2,\n",
       " ('murid2ku', 1): 1,\n",
       " ('msh', 1): 2,\n",
       " ('ngajar', 1): 1,\n",
       " ('sekolah', 1): 4,\n",
       " ('internasional', 1): 2,\n",
       " ('mihil', 1): 1,\n",
       " ('cantik2', 1): 1,\n",
       " ('bpk', 1): 7,\n",
       " ('ramah', 1): 3,\n",
       " ('bngt', 1): 4,\n",
       " ('seluruh', 1): 1,\n",
       " ('sepupu', 1): 1,\n",
       " ('uang', 1): 1,\n",
       " ('masuk', 1): 1,\n",
       " ('70', 1): 1,\n",
       " ('jtan', 1): 1,\n",
       " ('lbh siswa', 1): 1,\n",
       " ('g', 1): 3,\n",
       " ('skrg', 1): 3,\n",
       " ('brp', 1): 1,\n",
       " ('bego', 0): 10,\n",
       " ('pede', 0): 1,\n",
       " ('ngomong', 0): 7,\n",
       " ('bukti', 0): 2,\n",
       " ('kaga', 0): 1,\n",
       " ('mau', 0): 3,\n",
       " ('pinter', 0): 3,\n",
       " ('jatohnya', 0): 1,\n",
       " ('pria', 1): 1,\n",
       " ('setia', 1): 2,\n",
       " ('keras', 1): 2,\n",
       " ('tdk', 1): 3,\n",
       " ('malu', 1): 2,\n",
       " ('cari', 1): 2,\n",
       " ('nafkah', 1): 1,\n",
       " ('balik beda', 1): 1,\n",
       " ('kenal', 1): 4,\n",
       " ('mentang2', 1): 2,\n",
       " ('milih', 1): 1,\n",
       " ('nganggur', 1): 1,\n",
       " ('ketimbang', 1): 1,\n",
       " ('ojol', 1): 1,\n",
       " ('udh', 1): 5,\n",
       " ('gitu', 1): 3,\n",
       " ('istri', 1): 7,\n",
       " ('diselingkuhin', 1): 1,\n",
       " ('baik', 1): 5,\n",
       " ('kalo', 1): 9,\n",
       " ('mau', 1): 2,\n",
       " ('kasi', 1): 1,\n",
       " ('sampek', 1): 1,\n",
       " ('rusak', 1): 1,\n",
       " ('jugak', 1): 1,\n",
       " ('kek', 1): 3,\n",
       " ('emaknya', 1): 1,\n",
       " ('murah', 1): 1,\n",
       " ('rejekinya', 1): 1,\n",
       " ('pak', 1): 1,\n",
       " ('ter-humble', 1): 1,\n",
       " ('ter-sempurna', 1): 1,\n",
       " ('ter-sederhana', 1): 1,\n",
       " ('engga', 1): 2,\n",
       " ('sok', 1): 4,\n",
       " ('kaya', 1): 11,\n",
       " ('pnah', 1): 1,\n",
       " ('manja', 1): 1,\n",
       " ('pesawat', 1): 4,\n",
       " ('jet', 1): 1,\n",
       " ('pribadi', 1): 2,\n",
       " ('pdhl', 0): 2,\n",
       " ('loh', 0): 5,\n",
       " ('pake', 0): 14,\n",
       " ('kerudung', 0): 2,\n",
       " ('cuihh', 0): 1,\n",
       " ('salfok', 0): 1,\n",
       " ('muka', 0): 11,\n",
       " ('sumpah', 0): 2,\n",
       " ('oplas', 0): 3,\n",
       " ('model', 0): 2,\n",
       " ('failed', 0): 1,\n",
       " ('keren', 1): 14,\n",
       " ('min', 1): 2,\n",
       " ('orang2', 1): 2,\n",
       " ('bakat', 1): 4,\n",
       " ('gin', 1): 3,\n",
       " ('up', 1): 1,\n",
       " ('publik', 1): 1,\n",
       " ('jadi', 1): 2,\n",
       " ('manusia', 1): 7,\n",
       " ('saling', 1): 1,\n",
       " ('harga', 1): 1,\n",
       " ('tulis', 1): 3,\n",
       " ('guna', 1): 2,\n",
       " ('ya', 1): 2,\n",
       " ('sosmed', 1): 1,\n",
       " ('smart', 1): 1,\n",
       " ('guys', 1): 1,\n",
       " ('suara tinggal', 1): 1,\n",
       " ('tmbh', 1): 1,\n",
       " ('cantik viralkann', 1): 1,\n",
       " ('dlu', 0): 1,\n",
       " ('si', 0): 33,\n",
       " ('pelakor', 0): 18,\n",
       " ('sombong', 0): 1,\n",
       " ('brhasil', 0): 1,\n",
       " ('dapetin', 0): 1,\n",
       " ('botak', 0): 1,\n",
       " ('smpe', 0): 2,\n",
       " ('mnceraikan', 0): 1,\n",
       " ('bunda', 0): 2,\n",
       " ('maya', 0): 2,\n",
       " ('hdp', 0): 1,\n",
       " ('mkin', 0): 1,\n",
       " ('anjlok', 0): 1,\n",
       " ('sring', 0): 1,\n",
       " ('jelong2', 0): 1,\n",
       " ('kluarnegri', 0): 1,\n",
       " ('micin', 0): 6,\n",
       " ('usah', 0): 1,\n",
       " ('produk', 0): 1,\n",
       " ('iklan', 0): 1,\n",
       " ('masak', 0): 2,\n",
       " ('tambah', 0): 1,\n",
       " ('biar', 0): 13,\n",
       " ('sedap', 0): 1,\n",
       " ('netizen', 0): 4,\n",
       " ('sudut', 0): 1,\n",
       " ('mecin', 0): 2,\n",
       " ('ganggu', 0): 1,\n",
       " ('jiwa', 0): 3,\n",
       " ('ngemil', 0): 1,\n",
       " ('justiceformicin', 0): 1,\n",
       " ('ahhh', 0): 1,\n",
       " ('jaga', 0): 3,\n",
       " ('ucap', 0): 2,\n",
       " ('lahh', 0): 2,\n",
       " ('ngk', 0): 1,\n",
       " ('sendiri', 0): 2,\n",
       " ('betina', 0): 1,\n",
       " ('zaman', 0): 1,\n",
       " ('now', 0): 2,\n",
       " ('ellu', 0): 1,\n",
       " ('yangg', 0): 1,\n",
       " ('loe', 0): 5,\n",
       " ('selangkang', 0): 1,\n",
       " ('paham', 0): 1,\n",
       " ('moga', 0): 5,\n",
       " ('ampunin', 0): 1,\n",
       " ('cun', 0): 1,\n",
       " ('nih', 1): 2,\n",
       " ('ni', 1): 4,\n",
       " ('neko', 1): 2,\n",
       " ('lahir', 1): 4,\n",
       " ('1996', 1): 1,\n",
       " ('najis', 0): 4,\n",
       " ('homo', 0): 1,\n",
       " ('musnah', 0): 2,\n",
       " ('bumi', 0): 1,\n",
       " ('kayak', 0): 7,\n",
       " ('malu kl', 0): 1,\n",
       " ('serah', 0): 1,\n",
       " ('udah', 0): 15,\n",
       " ('simpan', 0): 1,\n",
       " ('foto gak', 0): 1,\n",
       " ('bagi', 0): 1,\n",
       " ('semua', 0): 1,\n",
       " ('orang lah', 0): 1,\n",
       " ('pamer', 0): 1,\n",
       " ('resiko', 0): 2,\n",
       " ('nyinyir', 0): 3,\n",
       " ('orang insecure', 0): 1,\n",
       " ('kudu', 0): 1,\n",
       " ('pamer2', 0): 1,\n",
       " ('gitu', 0): 8,\n",
       " ('ngerti', 0): 1,\n",
       " ('kl', 0): 1,\n",
       " ('py', 0): 1,\n",
       " ('pacar', 0): 3,\n",
       " ('dipamer2', 0): 1,\n",
       " ('pantat', 0): 2,\n",
       " ('bgt', 0): 11,\n",
       " ('bela', 1): 1,\n",
       " ('dasar', 1): 4,\n",
       " ('agama', 1): 1,\n",
       " ('utama', 1): 2,\n",
       " ('laki2nya', 1): 1,\n",
       " ('dpt', 1): 3,\n",
       " ('laki2', 1): 1,\n",
       " ('raya', 1): 1,\n",
       " ('nikahin', 1): 1,\n",
       " ('cewenya', 1): 2,\n",
       " ('cantikk', 1): 2,\n",
       " ('the', 1): 6,\n",
       " ('power', 1): 1,\n",
       " ('of', 1): 3,\n",
       " ('sayang', 0): 2,\n",
       " ('ibadah', 0): 1,\n",
       " ('sholat', 0): 1,\n",
       " ('drpd', 0): 3,\n",
       " ('nyinyirin', 0): 2,\n",
       " ('dandan', 0): 1,\n",
       " ('suci', 0): 4,\n",
       " ('sampah', 0): 4,\n",
       " ('senang', 1): 1,\n",
       " ('sby', 1): 2,\n",
       " ('nikmat', 1): 1,\n",
       " ('tua', 1): 4,\n",
       " ('brsama', 1): 1,\n",
       " ('cucu', 1): 4,\n",
       " ('cinta', 1): 3,\n",
       " ('trs', 1): 3,\n",
       " ('memo', 1): 2,\n",
       " ('pepo', 1): 2,\n",
       " ('swt', 1): 3,\n",
       " ('kel', 1): 2,\n",
       " ('kisss', 1): 1,\n",
       " ('bandingin', 1): 1,\n",
       " ('lagu', 1): 7,\n",
       " ('ngena', 1): 1,\n",
       " ('gue', 1): 7,\n",
       " ('seru', 1): 1,\n",
       " ('didenger', 1): 1,\n",
       " ('tapi', 1): 4,\n",
       " ('tumben', 1): 1,\n",
       " ('agnes', 1): 4,\n",
       " ('bumbu', 1): 1,\n",
       " ('indonesia', 1): 7,\n",
       " ('batik', 1): 1,\n",
       " ('gtu', 1): 2,\n",
       " ('apa', 1): 4,\n",
       " ('joget', 0): 1,\n",
       " ('ngakakkk', 0): 1,\n",
       " ('anjirrrr', 0): 1,\n",
       " ('yatuhan', 1): 1,\n",
       " ('suaranyaaaaaaa', 1): 1,\n",
       " ('bagus', 1): 15,\n",
       " ('bangetttttttt', 1): 1,\n",
       " ('numpang', 0): 2,\n",
       " ('tenar', 0): 5,\n",
       " ('gara2', 0): 1,\n",
       " ('katy', 0): 1,\n",
       " ('perry', 0): 1,\n",
       " ('doang', 0): 1,\n",
       " ('please', 0): 1,\n",
       " ('lo', 0): 22,\n",
       " ('bela', 0): 3,\n",
       " ('hukum', 0): 3,\n",
       " ('muljem', 0): 3,\n",
       " ('karna', 0): 4,\n",
       " ('uda', 0): 3,\n",
       " ('tega', 0): 1,\n",
       " ('recut', 0): 1,\n",
       " ('suami', 0): 10,\n",
       " ('sahabat', 0): 1,\n",
       " ('jalan', 0): 1,\n",
       " ('sanksi', 0): 1,\n",
       " ('sosial', 0): 1,\n",
       " ('valakor', 0): 2,\n",
       " ('mesti', 0): 1,\n",
       " ('sem', 0): 1,\n",
       " ('ken', 0): 4,\n",
       " ('ampuuun', 0): 1,\n",
       " ('mas', 1): 6,\n",
       " ('agus', 1): 2,\n",
       " ('pimpin', 1): 3,\n",
       " ('datang salah', 1): 1,\n",
       " ('dlm', 1): 8,\n",
       " ('rumah', 1): 6,\n",
       " ('tangga', 1): 2,\n",
       " ('kerennnn', 1): 2,\n",
       " ('suara', 1): 12,\n",
       " ('ikut', 1): 3,\n",
       " ('bangat', 1): 1,\n",
       " ('emas jadi', 1): 1,\n",
       " ('salpok', 1): 1,\n",
       " ('emas tp', 1): 1,\n",
       " ('sumpah', 1): 2,\n",
       " ('music', 1): 1,\n",
       " ('bngat apalagi', 1): 1,\n",
       " ('konsep', 1): 1,\n",
       " ('mv', 1): 1,\n",
       " ('ambil', 1): 3,\n",
       " ('handel kan', 1): 1,\n",
       " ('saya kalo', 1): 1,\n",
       " ('denada', 1): 1,\n",
       " ('taro', 1): 1,\n",
       " ('kutang', 1): 1,\n",
       " ('luar', 1): 2,\n",
       " ('krn', 1): 6,\n",
       " ('minim', 1): 1,\n",
       " ('perestasi tp', 1): 1,\n",
       " ('wajar prestasi', 1): 1,\n",
       " ('fashion', 1): 1,\n",
       " ('unggul krn', 1): 1,\n",
       " ('berani', 1): 1,\n",
       " ('banyak', 0): 6,\n",
       " ('makan', 0): 3,\n",
       " ('penuh', 0): 3,\n",
       " ('jdi', 0): 3,\n",
       " ('berfikir', 0): 1,\n",
       " ('positif', 0): 2,\n",
       " ('bicara', 0): 1,\n",
       " ('moral', 0): 2,\n",
       " ('kaum2', 0): 1,\n",
       " ('laknat', 0): 4,\n",
       " ('kbanyakan', 0): 1,\n",
       " ('burit', 0): 1,\n",
       " ('stres', 0): 1,\n",
       " ('ogah', 0): 2,\n",
       " ('jumpa', 0): 1,\n",
       " ('ketemu', 0): 3,\n",
       " ('oh', 0): 1,\n",
       " ('kemaren', 0): 1,\n",
       " ('tidak', 0): 2,\n",
       " ('karya', 0): 1,\n",
       " ('dan', 0): 6,\n",
       " ('enak', 0): 3,\n",
       " ('aduh', 0): 1,\n",
       " ('penganten', 0): 1,\n",
       " ('kenyang', 0): 1,\n",
       " ('ampe', 0): 2,\n",
       " ('kembung', 0): 1,\n",
       " ('perut', 0): 1,\n",
       " ('pepuralugu', 0): 1,\n",
       " ('wah', 1): 1,\n",
       " ('rini', 1): 8,\n",
       " ('hamil', 1): 5,\n",
       " ('selamat', 1): 3,\n",
       " ('kandung', 1): 6,\n",
       " ('proses', 1): 1,\n",
       " ('salin', 1): 1,\n",
       " ('jahat', 0): 3,\n",
       " ('jilat', 0): 1,\n",
       " ('bohong', 0): 2,\n",
       " ('jijik', 0): 14,\n",
       " ('wey', 0): 1,\n",
       " ('bedain', 0): 1,\n",
       " ('vape', 0): 1,\n",
       " ('shisha', 0): 1,\n",
       " ('sm', 0): 13,\n",
       " ('rokok', 0): 1,\n",
       " ('ngerokok', 0): 1,\n",
       " ('acara', 0): 2,\n",
       " ('ngaku', 0): 3,\n",
       " ('ntar', 1): 2,\n",
       " ('duit', 1): 1,\n",
       " ('muka', 1): 6,\n",
       " ('cemerlang', 1): 1,\n",
       " ('didik', 0): 1,\n",
       " ('ortunya', 0): 1,\n",
       " ('nagita', 0): 7,\n",
       " ('bagus', 0): 5,\n",
       " ('heran', 0): 2,\n",
       " ('dg', 0): 3,\n",
       " ('balajaer', 0): 6,\n",
       " ('rugi', 0): 1,\n",
       " ('junjunganny', 0): 1,\n",
       " ('knp', 0): 4,\n",
       " ('asli', 0): 4,\n",
       " ('doyan', 0): 1,\n",
       " ('jadi', 0): 2,\n",
       " ('kawinin', 0): 1,\n",
       " ('ashanti', 1): 3,\n",
       " ('bunda', 1): 5,\n",
       " ('best', 1): 2,\n",
       " ('slalu', 1): 5,\n",
       " ('bain support', 1): 1,\n",
       " ('mskipun', 1): 2,\n",
       " ('bkn', 1): 1,\n",
       " ('ank', 1): 2,\n",
       " ('kndung', 1): 1,\n",
       " ('biasa', 0): 2,\n",
       " ('nyampah', 0): 2,\n",
       " ('d', 0): 8,\n",
       " ('artis suka2', 0): 1,\n",
       " ('caption', 0): 1,\n",
       " ('heboh', 0): 1,\n",
       " ('asik', 0): 1,\n",
       " ('ceramahin', 0): 1,\n",
       " ('ig tar', 0): 1,\n",
       " ('lama2', 0): 4,\n",
       " ('bikinin', 0): 1,\n",
       " ('lagu', 0): 2,\n",
       " ('teh', 0): 1,\n",
       " ('melly', 0): 1,\n",
       " ('judul', 0): 1,\n",
       " ('sabda', 0): 1,\n",
       " ('seonggak', 0): 1,\n",
       " ('koin', 0): 2,\n",
       " ('nya balajaer', 0): 1,\n",
       " ('ngamuk', 0): 1,\n",
       " ('goda', 0): 2,\n",
       " ('rt', 0): 1,\n",
       " ('gigi duh', 0): 1,\n",
       " ('elah', 0): 1,\n",
       " ('smua', 0): 2,\n",
       " ('kale', 0): 1,\n",
       " ('laku', 0): 9,\n",
       " ('biduan', 0): 1,\n",
       " ('kek', 0): 6,\n",
       " ('apa minus', 0): 1,\n",
       " ('segala2nya', 0): 1,\n",
       " ('mati2an', 0): 2,\n",
       " ('sakit', 0): 5,\n",
       " ('alhamdulillah', 1): 4,\n",
       " ('babang', 1): 1,\n",
       " ('emran', 1): 2,\n",
       " ('kereeeeennnn', 1): 1,\n",
       " ('nyanyi', 1): 8,\n",
       " ('santai', 1): 2,\n",
       " ('hahahaaaa', 0): 1,\n",
       " ('trs', 0): 1,\n",
       " ('nanya', 0): 2,\n",
       " ('kador', 0): 4,\n",
       " ('bencong', 0): 3,\n",
       " ('ngga', 0): 2,\n",
       " ('blm', 0): 2,\n",
       " ('kenal', 0): 4,\n",
       " ('wkwkwkwkw', 0): 2,\n",
       " ('eh', 0): 7,\n",
       " ('nilai', 0): 3,\n",
       " ('beneran', 0): 2,\n",
       " ('gerak', 0): 1,\n",
       " ('gerik', 0): 1,\n",
       " ('melambay', 0): 1,\n",
       " ('ngondek', 0): 1,\n",
       " ('cewek', 0): 5,\n",
       " ('nyaman', 0): 1,\n",
       " ('mana', 0): 1,\n",
       " ('syarat', 0): 3,\n",
       " ('sah', 0): 6,\n",
       " ('agama', 0): 5,\n",
       " ('islam', 0): 1,\n",
       " ('5', 0): 2,\n",
       " ('cpp', 0): 1,\n",
       " ('cpw', 0): 1,\n",
       " ('saksi', 0): 2,\n",
       " ('wali', 0): 1,\n",
       " ('mas', 0): 2,\n",
       " ('kawin mahar', 0): 1,\n",
       " ('perkara', 0): 1,\n",
       " ('makeup', 0): 2,\n",
       " ('manglingi', 0): 1,\n",
       " ('sekalipun', 0): 1,\n",
       " ('emak', 0): 2,\n",
       " ('julids', 0): 1,\n",
       " ('editanx', 0): 1,\n",
       " ('paraaaahh', 0): 1,\n",
       " ('laaah', 0): 1,\n",
       " ('nyai', 0): 1,\n",
       " ('ngedit2', 0): 1,\n",
       " ('gn', 0): 1,\n",
       " ('hahaa', 0): 1,\n",
       " ('maluuu', 0): 1,\n",
       " ('lah', 0): 1,\n",
       " ('elo', 0): 1,\n",
       " ('papan', 0): 2,\n",
       " ('blenyek', 0): 1,\n",
       " ('belagu', 0): 1,\n",
       " ('amat', 0): 1,\n",
       " ('kga', 0): 2,\n",
       " ('populer', 0): 1,\n",
       " ('sama', 0): 2,\n",
       " ('sekalu', 0): 1,\n",
       " ('hahaha', 0): 3,\n",
       " ('philipine', 0): 1,\n",
       " ('bangga jd', 0): 1,\n",
       " ('usak', 0): 1,\n",
       " ('ko', 0): 3,\n",
       " ('bangga najis', 0): 1,\n",
       " ('liat ckp', 0): 1,\n",
       " ('pngn', 0): 1,\n",
       " ('ngetop', 0): 1,\n",
       " ('lwt', 0): 1,\n",
       " ('nitezerrre', 0): 1,\n",
       " ('wkwkwk ngarep', 0): 1,\n",
       " ('enakk', 1): 2,\n",
       " ('musik', 1): 1,\n",
       " ('nyaa', 1): 4,\n",
       " ('lagi', 1): 2,\n",
       " ('lhatt', 1): 1,\n",
       " ('ka', 1): 3,\n",
       " ('dance', 1): 1,\n",
       " ('nyamaann', 1): 1,\n",
       " ('tuh', 1): 4,\n",
       " ('kayaa', 1): 1,\n",
       " ('asli', 1): 4,\n",
       " ('ayu', 1): 1,\n",
       " ('loh', 1): 2,\n",
       " ('temu', 1): 2,\n",
       " ('langsung', 1): 7,\n",
       " ('sembak', 1): 2,\n",
       " ('sombong', 1): 2,\n",
       " ('mantan2', 1): 1,\n",
       " ('hhe', 1): 1,\n",
       " ('maaf', 1): 2,\n",
       " ('nimbrung', 1): 1,\n",
       " ('makeup', 1): 3,\n",
       " ('tonjol', 1): 2,\n",
       " ('wa', 1): 1,\n",
       " ('banggeett', 1): 1,\n",
       " ('kak', 1): 6,\n",
       " ('depe', 1): 7,\n",
       " ('gk', 1): 5,\n",
       " ('gadis', 1): 1,\n",
       " ('h', 1): 2,\n",
       " ('akhirat', 1): 2,\n",
       " ('aammiinnn', 1): 1,\n",
       " ('karna', 1): 5,\n",
       " ('syudah', 1): 1,\n",
       " ('heboh', 1): 1,\n",
       " ('utk', 1): 2,\n",
       " ('buat', 1): 2,\n",
       " ('simple', 1): 1,\n",
       " ('pesona', 1): 1,\n",
       " ('hamish', 1): 4,\n",
       " ('klepek2', 1): 1,\n",
       " ('kereeen', 1): 2,\n",
       " ('nah', 1): 2,\n",
       " ('kyk', 1): 5,\n",
       " ('kids', 1): 2,\n",
       " ('baca', 0): 5,\n",
       " ('arti', 0): 1,\n",
       " ('comment', 0): 2,\n",
       " ('kerdus bodoh', 0): 1,\n",
       " ('lg', 0): 8,\n",
       " ('bilangin', 0): 1,\n",
       " ('tua', 0): 2,\n",
       " ('besok', 0): 3,\n",
       " ('pakai', 0): 2,\n",
       " ('kerdungab', 0): 1,\n",
       " ('sesuai', 0): 1,\n",
       " ('salmon', 0): 1,\n",
       " ('deliv', 0): 1,\n",
       " ('rumah', 0): 3,\n",
       " ('bu', 1): 8,\n",
       " ('ameeel', 1): 1,\n",
       " ('bank', 1): 1,\n",
       " ('kangen', 1): 4,\n",
       " ('amel', 1): 2,\n",
       " ('ama', 1): 11,\n",
       " ('tenteng', 1): 1,\n",
       " ('hihiii', 1): 1,\n",
       " ('nanya', 1): 1,\n",
       " ('amelnya', 1): 1,\n",
       " ('pindah', 1): 1,\n",
       " ('sehat2', 1): 1,\n",
       " ('salam', 1): 8,\n",
       " ('annabel', 1): 1,\n",
       " ('biarin', 0): 1,\n",
       " ('puas', 0): 1,\n",
       " ('puasin', 0): 1,\n",
       " ('mumpung', 0): 1,\n",
       " ('deseu', 0): 1,\n",
       " ('brasa', 0): 1,\n",
       " ('muda', 0): 2,\n",
       " ('ntar', 0): 2,\n",
       " ('dah', 0): 5,\n",
       " ('nyaho', 0): 1,\n",
       " ('karma', 0): 4,\n",
       " ('ayah', 1): 1,\n",
       " ('lekas', 1): 1,\n",
       " ('w lina2706', 0): 2,\n",
       " ('lucu', 0): 3,\n",
       " ('sist', 0): 3,\n",
       " ('lonte', 0): 6,\n",
       " ('bela2', 0): 1,\n",
       " ('guoblok', 0): 1,\n",
       " ('pelihara', 0): 2,\n",
       " ('bayar', 0): 2,\n",
       " ('gt', 0): 5,\n",
       " ('muljamban', 0): 1,\n",
       " ('sampe', 0): 5,\n",
       " ('account', 0): 1,\n",
       " ('maia', 0): 1,\n",
       " ('urus', 0): 3,\n",
       " ('sirik', 0): 2,\n",
       " ('sekarang', 0): 1,\n",
       " ('mah', 0): 9,\n",
       " ('elu', 0): 5,\n",
       " ('ngasih', 0): 1,\n",
       " ('contoh', 0): 2,\n",
       " ('mata', 0): 4,\n",
       " ('emg', 0): 3,\n",
       " ('dugem', 0): 1,\n",
       " ('bawa', 0): 1,\n",
       " ('- -', 0): 1,\n",
       " ('texas', 0): 2,\n",
       " ('jamin', 0): 1,\n",
       " ('jam', 0): 1,\n",
       " ('jga', 0): 2,\n",
       " ('selagi', 0): 1,\n",
       " ('ngerugiin', 0): 1,\n",
       " ('yaudah', 0): 1,\n",
       " ('sewot', 0): 1,\n",
       " ('untung', 1): 6,\n",
       " ('dapet', 1): 3,\n",
       " ('sayang', 1): 4,\n",
       " ('keluarga ini', 1): 1,\n",
       " ('idam', 1): 2,\n",
       " ('banget moga', 1): 1,\n",
       " ('gk', 0): 5,\n",
       " ('jedun', 0): 3,\n",
       " ('hidup', 0): 7,\n",
       " ('bisa', 0): 1,\n",
       " ('ngerusak', 0): 1,\n",
       " ('kbhgiaan', 0): 1,\n",
       " ('serba', 0): 1,\n",
       " ('mewah', 0): 1,\n",
       " ...}"
      ]
     },
     "execution_count": 34,
     "metadata": {},
     "output_type": "execute_result"
    }
   ],
   "source": [
    "freqs"
   ]
  },
  {
   "cell_type": "markdown",
   "metadata": {},
   "source": [
    "### Process tweet"
   ]
  },
  {
   "cell_type": "code",
   "execution_count": 35,
   "metadata": {},
   "outputs": [
    {
     "name": "stdout",
     "output_type": "stream",
     "text": [
      "Contoh sample positive tweet: \n",
      "  <USERNAME> yaa ampun ini upil naruto,, kata2nya makin mencerminkan klo dia yg sebenarnya pecun.????pengalaman banget lu yaa. Kesian. Gua jadi prihatin. Mati aj deh lu. Ngotorin dunia manusia macam kau.??\n",
      "\n",
      "Contoh yang sudah di proses: \n",
      " ['yaa', 'ampun', 'upil', 'naruto', 'kata2nya', 'cermin', 'klo', 'yg', 'pecun', 'alam', 'banget', 'lu', 'yaa', 'kesi', 'gua', 'prihatin', 'mati', 'aj', 'deh', 'lu', 'ngotorin', 'dunia', 'manusia', 'kau']\n"
     ]
    }
   ],
   "source": [
    "# test proses fungsi\n",
    "print('Contoh sample positive tweet: \\n', X_train[1])\n",
    "print('\\nContoh yang sudah di proses: \\n', process_tweet(X_train[1]))"
   ]
  },
  {
   "cell_type": "markdown",
   "metadata": {
    "id": "3nODmHg3LWsh"
   },
   "source": [
    "# Logistic Algorithm"
   ]
  },
  {
   "cell_type": "markdown",
   "metadata": {
    "id": "TLe8VnOkMB7o"
   },
   "source": [
    "### Sigmoid function"
   ]
  },
  {
   "cell_type": "code",
   "execution_count": 36,
   "metadata": {
    "id": "NGuvWFUBLbVI"
   },
   "outputs": [],
   "source": [
    "def sigmoid(z):\n",
    "    \n",
    "    h = 1/(1+np.exp(-z))\n",
    "    \n",
    "    return h"
   ]
  },
  {
   "cell_type": "code",
   "execution_count": 37,
   "metadata": {},
   "outputs": [
    {
     "name": "stdout",
     "output_type": "stream",
     "text": [
      "SUCCESS!\n"
     ]
    }
   ],
   "source": [
    "# Testing fungsi \n",
    "if (sigmoid(0) == 0.5):\n",
    "    print('SUCCESS!')\n",
    "else:\n",
    "    print('Oops!')"
   ]
  },
  {
   "cell_type": "markdown",
   "metadata": {
    "id": "GvIYq4rbRti6"
   },
   "source": [
    "### Cost function"
   ]
  },
  {
   "cell_type": "code",
   "execution_count": 38,
   "metadata": {
    "id": "yT9aAF-IR0qJ"
   },
   "outputs": [],
   "source": [
    "def linreg_cost_func(x, y, m, h):\n",
    "    \n",
    "    # calculate fungsi cost\n",
    "    J = -1/m * (np.dot(y.T, np.log(h)) + (np.dot((1-y).T, np.log(1-h))))\n",
    "\n",
    "    return J"
   ]
  },
  {
   "cell_type": "markdown",
   "metadata": {
    "id": "MQQiPZRWQ0cL"
   },
   "source": [
    "### Gradient descent"
   ]
  },
  {
   "cell_type": "code",
   "execution_count": 39,
   "metadata": {
    "id": "Dpw9tdycQ2ta"
   },
   "outputs": [],
   "source": [
    "def gradientDescent(x, y, theta, alpha, num_iters):\n",
    "    \n",
    "    m = x.shape[0]\n",
    "    \n",
    "    for i in range(0, num_iters):\n",
    "        \n",
    "        # feed forward\n",
    "        z = np.dot(x, theta)\n",
    "        h = sigmoid(z)\n",
    "\n",
    "        # hitung cost\n",
    "        J = linreg_cost_func(x, y, m, h)\n",
    "        \n",
    "        # update weight\n",
    "        theta = theta - ((alpha/m) * (np.dot(x.T, h-y)))\n",
    "        \n",
    "        print(f'\\rIterasi: {i+1}/{num_iters}', end='')\n",
    "\n",
    "    J = float(J)\n",
    "    return J, theta"
   ]
  },
  {
   "cell_type": "code",
   "execution_count": 47,
   "metadata": {},
   "outputs": [
    {
     "name": "stdout",
     "output_type": "stream",
     "text": [
      "Iterasi: 2000/2000\n",
      "Cost setelah training adalah 0.65476423.\n"
     ]
    }
   ],
   "source": [
    "# testing fungsi\n",
    "np.random.seed(1)\n",
    "tmp_X = np.append(np.ones((10, 1)), np.random.rand(10, 2) * 2000, axis=1)\n",
    "tmp_Y = (np.random.rand(10, 1) > 0.35).astype(float)\n",
    "\n",
    "\n",
    "# Apply gradient descent\n",
    "tmp_J, tmp_theta = gradientDescent(tmp_X, tmp_Y, np.zeros((3, 1)), 1e-8, 2000)\n",
    "print(f\"\\nCost setelah training adalah {tmp_J:.8f}.\")"
   ]
  },
  {
   "cell_type": "markdown",
   "metadata": {
    "id": "YnrdXH8VTg54"
   },
   "source": [
    "# Extract Features"
   ]
  },
  {
   "cell_type": "code",
   "execution_count": 48,
   "metadata": {
    "id": "wmCN9UdyTiyZ"
   },
   "outputs": [],
   "source": [
    "def extract_features(tweet, freqs):\n",
    "    \n",
    "    # process_tweet tokenizes, stems, dan hapus stopwords\n",
    "    word_l = process_tweet(tweet)\n",
    "    \n",
    "    # inisiasi x dengan nilai 0 dalam bentuk matriks 1x3 \n",
    "    x = np.zeros((1, 3)) \n",
    "    \n",
    "    # inisiasi bias dengan 1\n",
    "    x[0,0] = 1 \n",
    "        \n",
    "    for word in word_l:\n",
    "        \n",
    "        # increment the word count for the positive label 1\n",
    "        x[0,1] += freqs.get((word, 1.0),0)\n",
    "        \n",
    "        # increment the word count for the negative label 0\n",
    "        x[0,2] += freqs.get((word, 0.0),0)\n",
    "        \n",
    "    assert(x.shape == (1, 3))\n",
    "    return x"
   ]
  },
  {
   "cell_type": "code",
   "execution_count": 49,
   "metadata": {},
   "outputs": [
    {
     "name": "stdout",
     "output_type": "stream",
     "text": [
      "[[  1. 502. 605.]]\n"
     ]
    }
   ],
   "source": [
    "# test fungsi\n",
    "tmp1 = extract_features(X_train[5], freqs)\n",
    "print(tmp1)"
   ]
  },
  {
   "cell_type": "code",
   "execution_count": 52,
   "metadata": {},
   "outputs": [
    {
     "name": "stdout",
     "output_type": "stream",
     "text": [
      "[[ 1. 13.  8.]]\n"
     ]
    }
   ],
   "source": [
    "tmp2 = extract_features('bajingan klo kamu', freqs)\n",
    "print(tmp2)"
   ]
  },
  {
   "cell_type": "markdown",
   "metadata": {
    "id": "-QMBt0LsN4pk"
   },
   "source": [
    "# Training model"
   ]
  },
  {
   "cell_type": "markdown",
   "metadata": {},
   "source": [
    "### extract features"
   ]
  },
  {
   "cell_type": "code",
   "execution_count": 53,
   "metadata": {
    "colab": {
     "base_uri": "https://localhost:8080/",
     "height": 374
    },
    "id": "kIpB37KdN7Q3",
    "outputId": "084cc479-5d68-4573-c3d8-54c9260404d1"
   },
   "outputs": [
    {
     "name": "stdout",
     "output_type": "stream",
     "text": [
      "Extract: 320/320 "
     ]
    }
   ],
   "source": [
    "X = np.zeros((len(X_train), 3))\n",
    "for i in range(len(X_train)):\n",
    "    X[i, :]= extract_features(X_train[i], freqs)\n",
    "    print(f'\\rExtract: {i+1}/{len(X_train)}', end=' ')"
   ]
  },
  {
   "cell_type": "code",
   "execution_count": 54,
   "metadata": {},
   "outputs": [],
   "source": [
    "Y = y_train.T"
   ]
  },
  {
   "cell_type": "markdown",
   "metadata": {},
   "source": [
    "### Config"
   ]
  },
  {
   "cell_type": "code",
   "execution_count": 58,
   "metadata": {},
   "outputs": [],
   "source": [
    "os.makedirs(name=\"model\", exist_ok=True)"
   ]
  },
  {
   "cell_type": "code",
   "execution_count": 59,
   "metadata": {},
   "outputs": [],
   "source": [
    "config = {\n",
    "    'input': X,\n",
    "    'output':Y,\n",
    "    'alpha':1e-8,\n",
    "    'theta':np.zeros((3, 1)),\n",
    "    'num_iters':2000\n",
    "}"
   ]
  },
  {
   "cell_type": "code",
   "execution_count": 60,
   "metadata": {},
   "outputs": [],
   "source": [
    "with open('model/model_best.pickle', 'wb') as fp:\n",
    "    pickle.dump(config, fp)"
   ]
  },
  {
   "cell_type": "markdown",
   "metadata": {},
   "source": [
    "### train model"
   ]
  },
  {
   "cell_type": "code",
   "execution_count": 61,
   "metadata": {
    "colab": {
     "base_uri": "https://localhost:8080/",
     "height": 357
    },
    "id": "l6ol1Q1UOAam",
    "outputId": "403e3ef7-aa0a-48f7-a25f-8a0eee6bde98"
   },
   "outputs": [
    {
     "name": "stdout",
     "output_type": "stream",
     "text": [
      "Iterasi: 2000/2000\n",
      "Cost setelah training adalah 0.68604902.\n"
     ]
    }
   ],
   "source": [
    "# Apply gradient descent\n",
    "J, theta = gradientDescent(config['input'], config['output'], config['theta'], config['alpha'], config['num_iters'])\n",
    "print(f\"\\nCost setelah training adalah {J:.8f}.\")"
   ]
  },
  {
   "cell_type": "code",
   "execution_count": 62,
   "metadata": {},
   "outputs": [
    {
     "data": {
      "text/plain": [
       "array([[ 3.20377889e-07],\n",
       "       [ 2.02033706e-04],\n",
       "       [-3.17695416e-04]])"
      ]
     },
     "execution_count": 62,
     "metadata": {},
     "output_type": "execute_result"
    }
   ],
   "source": [
    "theta"
   ]
  },
  {
   "cell_type": "markdown",
   "metadata": {},
   "source": [
    "### save bobot"
   ]
  },
  {
   "cell_type": "code",
   "execution_count": 63,
   "metadata": {},
   "outputs": [],
   "source": [
    "with open('model/theta_best.wt', 'wb') as fp:\n",
    "    pickle.dump(theta, fp)"
   ]
  },
  {
   "cell_type": "markdown",
   "metadata": {
    "id": "tI98hOCGOAt2"
   },
   "source": [
    "# Test Logistic Regression"
   ]
  },
  {
   "cell_type": "markdown",
   "metadata": {},
   "source": [
    "### load bobot"
   ]
  },
  {
   "cell_type": "code",
   "execution_count": 64,
   "metadata": {},
   "outputs": [],
   "source": [
    "with open('model/theta_best.wt', 'rb') as f:\n",
    "    theta = pickle.load(f)"
   ]
  },
  {
   "cell_type": "code",
   "execution_count": 65,
   "metadata": {},
   "outputs": [
    {
     "data": {
      "text/plain": [
       "array([[ 3.20377889e-07],\n",
       "       [ 2.02033706e-04],\n",
       "       [-3.17695416e-04]])"
      ]
     },
     "execution_count": 65,
     "metadata": {},
     "output_type": "execute_result"
    }
   ],
   "source": [
    "theta"
   ]
  },
  {
   "cell_type": "code",
   "execution_count": 66,
   "metadata": {
    "id": "xvScaBnPOA3m"
   },
   "outputs": [],
   "source": [
    "def predict_tweet(tweet, freqs, theta):\n",
    "\n",
    "    # extract features dari tweet dan simpan di dalam x\n",
    "    x = extract_features(tweet, freqs)\n",
    "    \n",
    "    # buat prediksi menggunakan x dan bobot (theta)\n",
    "    y_pred = sigmoid(np.dot(x, theta))\n",
    "    \n",
    "    return y_pred"
   ]
  },
  {
   "cell_type": "code",
   "execution_count": 67,
   "metadata": {},
   "outputs": [
    {
     "name": "stdout",
     "output_type": "stream",
     "text": [
      "bangsat lu -> 0.498910\n",
      "mantap sihh ini -> 0.500051\n",
      "apaan lo? -> 0.498253\n",
      "congrats yah k -> 0.499653\n"
     ]
    }
   ],
   "source": [
    "# Run this cell to test your function\n",
    "for tweet in ['bangsat lu', 'mantap sihh ini', 'apaan lo?', 'congrats yah k']:\n",
    "    print( '%s -> %f' % (tweet, predict_tweet(tweet, freqs, theta)))"
   ]
  },
  {
   "cell_type": "code",
   "execution_count": 68,
   "metadata": {},
   "outputs": [
    {
     "data": {
      "text/plain": [
       "array([[0.49989174]])"
      ]
     },
     "execution_count": 68,
     "metadata": {},
     "output_type": "execute_result"
    }
   ],
   "source": [
    "# Feel free to check the sentiment of your own tweet below\n",
    "my_tweet = 'bau busuk barangnya'\n",
    "predict_tweet(my_tweet, freqs, theta)"
   ]
  },
  {
   "cell_type": "markdown",
   "metadata": {},
   "source": [
    "# Check peformance"
   ]
  },
  {
   "cell_type": "code",
   "execution_count": 69,
   "metadata": {},
   "outputs": [],
   "source": [
    "def test_logistic_regression(test_x, test_y, freqs, theta):\n",
    "\n",
    "    \n",
    "    # the list for storing predictions\n",
    "    y_hat = []\n",
    "    \n",
    "    for tweet in test_x:\n",
    "        \n",
    "        y_pred = predict_tweet(tweet, freqs, theta)\n",
    "        \n",
    "        if y_pred > 0.5:\n",
    "            # append 1.0 to the list\n",
    "            y_hat.append(1)\n",
    "        else:\n",
    "            # append 0 to the list\n",
    "            y_hat.append(0)\n",
    "\n",
    "    accuracy = (y_hat==np.squeeze(test_y)).sum()/len(test_x)\n",
    "    \n",
    "    return accuracy"
   ]
  },
  {
   "cell_type": "code",
   "execution_count": 70,
   "metadata": {},
   "outputs": [
    {
     "name": "stdout",
     "output_type": "stream",
     "text": [
      "Logistic regression model's accuracy = 0.7250\n"
     ]
    }
   ],
   "source": [
    "tmp_accuracy = test_logistic_regression(X_test, y_test, freqs, theta)\n",
    "print(f\"Logistic regression model's accuracy = {tmp_accuracy:.4f}\")"
   ]
  },
  {
   "cell_type": "markdown",
   "metadata": {},
   "source": [
    "# Error Analysis"
   ]
  },
  {
   "cell_type": "code",
   "execution_count": 71,
   "metadata": {},
   "outputs": [],
   "source": [
    "y_test = y_test.T"
   ]
  },
  {
   "cell_type": "code",
   "execution_count": 72,
   "metadata": {},
   "outputs": [
    {
     "name": "stdout",
     "output_type": "stream",
     "text": [
      "Label Predicted Tweet\n",
      "tweet: Bagus dong.. mencari ilmu kapanpun dimanapun.. itu karena suaminya orang berpendidikan ????????????\n",
      "proses tweet: ['bagus', 'dong', 'cari', 'ilmu', 'mana', 'suami', 'orang', 'didik']\n",
      "1\t0.49843903\tb'bagus dong cari ilmu mana suami orang didik'\n",
      "\n",
      "\n",
      "tweet: Beginilah pasangan suami istri yg normal.. Romantisme hanya dia dan istri yg tau. Ga perlu diumbar.. Tp dijaga. Yg suka umbar kemesraan iti kebanyakan menutupi kenyataan yg sebenarnya.\n",
      "proses tweet: ['begini', 'pasang', 'suami', 'istri', 'yg', 'normal', 'romantisme', 'istri', 'yg', 'tau', 'ga', 'umbar', 'tp', 'jaga', 'yg', 'suka', 'umbar', 'mesra', 'iti', 'banyak', 'tutup', 'nyata', 'yg']\n",
      "1\t0.48484908\tb'begini pasang suami istri yg normal romantisme istri yg tau ga umbar tp jaga yg suka umbar mesra iti banyak tutup nyata yg'\n",
      "\n",
      "\n",
      "tweet: Cantik, polos, apa adanya tapi keliatan berbakat. Semoga kalau udah tenar gek jadi selebgram, kalian ga kaya2 si mba Novilda ya dek yg kehilangan arah. Tetaplah begini,jangan cepat tumbuh dewasa dan terus asahlah bakat kalian, Allah bless you both.\n",
      "proses tweet: ['cantik', 'polos', 'liat', 'bakat', 'moga', 'udah', 'tenar', 'gek', 'selebgram', 'ga', 'kaya2', 'si', 'mba', 'novilda', 'dek', 'yg', 'hilang', 'arah', 'tetap', 'cepat', 'tumbuh', 'dewasa', 'asah', 'bakat', 'allah', 'bless', 'you', 'both']\n",
      "1\t0.49610710\tb'cantik polos liat bakat moga udah tenar gek selebgram ga kaya2 si mba novilda dek yg hilang arah tetap cepat tumbuh dewasa asah bakat allah bless you both'\n",
      "\n",
      "\n",
      "tweet: Anyiennnnggg.. Suaranya ancur banget, lebih merdu tukang gorengan\n",
      "proses tweet: ['anyiennnnggg', 'suara', 'ancur', 'banget', 'merdu', 'tukang', 'goreng']\n",
      "0\t0.50063397\tb'anyiennnnggg suara ancur banget merdu tukang goreng'\n",
      "\n",
      "\n",
      "tweet: Berasa kaya mau manggung kk  <USERNAME> ?? semoga lancar dan cepat punya momongan biar Ada Princess Kecil MoMo atau gak prince ??\n",
      "proses tweet: ['asa', 'kaya', 'manggung', 'kk', 'moga', 'lancar', 'cepat', 'momong', 'biar', 'ada', 'princess', 'kecil', 'momo', 'gak', 'prince']\n",
      "1\t0.49772347\tb'asa kaya manggung kk moga lancar cepat momong biar ada princess kecil momo gak prince'\n",
      "\n",
      "\n",
      "tweet: Wajah2 anak skul bgt yaakk mase alami bgt suka liatnya ???? lagu ma suara keren palg yg pake bando suaranya mantap ??????\n",
      "proses tweet: ['wajah2', 'anak', 'skul', 'bgt', 'yaakk', 'mase', 'alami', 'bgt', 'suka', 'liat', 'lagu', 'ma', 'suara', 'keren', 'palg', 'yg', 'pake', 'bando', 'suara', 'mantap']\n",
      "1\t0.49724133\tb'wajah2 anak skul bgt yaakk mase alami bgt suka liat lagu ma suara keren palg yg pake bando suara mantap'\n",
      "\n",
      "\n",
      "tweet: Semoga di berikan kesehatan dan rezeki yg berlimpaah pak ??\n",
      "proses tweet: ['moga', 'sehat', 'rezeki', 'yg', 'berlimpaah']\n",
      "1\t0.49831380\tb'moga sehat rezeki yg berlimpaah'\n",
      "\n",
      "\n",
      "tweet: Salut sekali Banting tulang demi menghidupi keluarga.yg duduk di bangku empuk,pakai AC Malah merampok.yg milih rakyat jelata lagi\n",
      "proses tweet: ['salut', 'banting', 'tulang', 'hidup', 'keluarga yg', 'duduk', 'bangku', 'empuk', 'pakai', 'ac', 'malah', 'rampok yg', 'milih', 'rakyat', 'jelata']\n",
      "1\t0.49965310\tb'salut banting tulang hidup keluarga yg duduk bangku empuk pakai ac malah rampok yg milih rakyat jelata'\n",
      "\n",
      "\n",
      "tweet: Kereeen nih...enak bgt didengernya...gak bosen puter ulang2...daripada yg lipsing2 gajelas joget2 gtu...\n",
      "proses tweet: ['kereeen', 'nih', '', 'enak', 'bgt', 'didengernya', '', 'gak', 'bosen', 'puter', 'ulang2', '', 'yg', 'lipsing2', 'gajelas', 'joget2', 'gtu', '']\n",
      "1\t0.48603831\tb'kereeen nih  enak bgt didengernya  gak bosen puter ulang2  yg lipsing2 gajelas joget2 gtu '\n",
      "\n",
      "\n",
      "tweet: Apaoun pekerjaannya yg penting halal u tuk menafkahi keluarga ... Semangat pak\n",
      "proses tweet: ['apaoun', 'kerja', 'yg', 'halal', 'u', 'tuk', 'nafkah', 'keluarga', '', 'semangat']\n",
      "1\t0.49597905\tb'apaoun kerja yg halal u tuk nafkah keluarga  semangat'\n",
      "\n",
      "\n",
      "tweet: Subhanallah tergetar hati dengar suara nya\n",
      "proses tweet: ['subhanallah', 'getar', 'hati', 'dengar', 'suara', 'nya']\n",
      "1\t0.49863374\tb'subhanallah getar hati dengar suara nya'\n",
      "\n",
      "\n",
      "tweet: Bangga sama suami yg selalu ingat istri disela waktunya, apapun profesimu... Kaulah juaranya. Sehat terus pak gojek, semoga lacar rejekimu. Amiiin....\n",
      "proses tweet: ['bangga', 'suami', 'yg', 'istri', 'sela', 'apa', 'profesi', '', 'kau', 'juara', 'sehat', 'gojek', 'moga', 'lacar', 'rejekimu', 'amiiin', '']\n",
      "1\t0.49354161\tb'bangga suami yg istri sela apa profesi  kau juara sehat gojek moga lacar rejekimu amiiin '\n",
      "\n",
      "\n",
      "tweet: Lucu.... suaranya kak abbey cantik kayak orang nya.... ?????????????? terharu....\n",
      "proses tweet: ['lucu', '', 'suara', 'kak', 'abbey', 'cantik', 'kayak', 'orang', 'nya', '', 'haru', '']\n",
      "1\t0.49134641\tb'lucu  suara kak abbey cantik kayak orang nya  haru '\n",
      "\n",
      "\n",
      "tweet: Pernah ketemu sama mba artika sari disesemall di Jakarta...ampunnn ayunee...mana semampai....murah senyummm....cakep pisan lah\n",
      "proses tweet: ['pernah', 'ketemu', 'mba', 'artika', 'sari', 'disesemall', 'jakarta', '', 'ampunnn', 'ayunee', '', 'semampai', '', 'murah', 'senyummm', '', 'cakep', 'pis']\n",
      "1\t0.49057364\tb'pernah ketemu mba artika sari disesemall jakarta  ampunnn ayunee  semampai  murah senyummm  cakep pis'\n",
      "\n",
      "\n",
      "tweet: Semoga betul klo sma yg ini mh....klo bella mh udah dapet yg amat sangat pas lah????\n",
      "proses tweet: ['moga', 'klo', 'sma', 'yg', 'mh', '', 'klo', 'bella', 'mh', 'udah', 'dapet', 'yg', 'pas']\n",
      "1\t0.49260335\tb'moga klo sma yg mh  klo bella mh udah dapet yg pas'\n",
      "\n",
      "\n",
      "tweet: Duh geulis kitu ditinggal sama yg 'itu' duuuhhhh hahaha jodohnya pasti Allah kasih yg lebih baik Teeeh ??\n",
      "proses tweet: ['duh', 'geulis', 'kitu', 'tinggal', 'yg', 'itu', 'duuuhhhh', 'hahaha', 'jodoh', 'allah', 'kasih', 'yg', 'teeeh']\n",
      "1\t0.49473729\tb'duh geulis kitu tinggal yg itu duuuhhhh hahaha jodoh allah kasih yg teeeh'\n",
      "\n",
      "\n",
      "tweet: Di ulang berkali kali sampet gak percaya klo ini suara aslinya. Bagus bgt ??\n",
      "proses tweet: ['di', 'ulang', 'kali', 'kali', 'sampet', 'gak', 'percaya', 'klo', 'suara', 'asli', 'bagus', 'bgt']\n",
      "1\t0.49767222\tb'di ulang kali kali sampet gak percaya klo suara asli bagus bgt'\n",
      "\n",
      "\n",
      "tweet: Laki-laki yang beneran berjuang unt anak istri, membahagiakan istri insyaallah di dunia mendapat rejeki yg ga disangka-sangka di akherat akan ada surga kelak amiin\n",
      "proses tweet: ['laki', 'beneran', 'juang', 'unt', 'anak', 'istri', 'bahagia', 'istri', 'insyaallah', 'dunia', 'rejeki', 'yg', 'ga', 'sangka', 'akherat', 'surga', 'kelak', 'amiin']\n",
      "1\t0.49448478\tb'laki beneran juang unt anak istri bahagia istri insyaallah dunia rejeki yg ga sangka akherat surga kelak amiin'\n",
      "\n",
      "\n",
      "tweet: Doa istri dan anak menyertaimu bang... lelaki yg bertanggung jawab itu sangat PERLU, karna kalo laki2 tanggung jawab otomatis dia akan sayang dgn anak dan istri. Beda dgn sayang yg belum tentu bertanggung jawab ??????\n",
      "proses tweet: ['doa', 'istri', 'anak', 'serta', 'bang', '', 'lelaki', 'yg', 'tanggung', 'perlu', 'karna', 'kalo', 'laki2', 'tanggung', 'otomatis', 'sayang', 'dgn', 'anak', 'istri', 'beda', 'dgn', 'sayang', 'yg', 'tanggung']\n",
      "1\t0.48887792\tb'doa istri anak serta bang  lelaki yg tanggung perlu karna kalo laki2 tanggung otomatis sayang dgn anak istri beda dgn sayang yg tanggung'\n",
      "\n",
      "\n",
      "tweet: Semangat mebangun indonesia yg lebih maju pak jokowi ????\n",
      "proses tweet: ['semangat', 'mebangun', 'indonesia', 'yg', 'maju', 'jokowi']\n",
      "1\t0.49736880\tb'semangat mebangun indonesia yg maju jokowi'\n",
      "\n",
      "\n",
      "tweet: Ibu tiri terhebat..... Ntr palingan klo dah 20an dia baru perawatan .skrg msh muda kasian klo di paksa perawatan .cm ya paling tutup mata tutup kuping skrg mah\n",
      "proses tweet: ['ibu', 'tiri', 'hebat', '', '', 'ntr', 'paling', 'klo', 'dah', '20an', 'awat', 'skrg', 'msh', 'muda', 'kasi', 'klo', 'paksa', 'awat', 'cm', 'tutup', 'mata', 'tutup', 'kuping', 'skrg', 'mah']\n",
      "1\t0.49347983\tb'ibu tiri hebat   ntr paling klo dah 20an awat skrg msh muda kasi klo paksa awat cm tutup mata tutup kuping skrg mah'\n",
      "\n",
      "\n",
      "tweet: Ya ampun lakikny ganteng. Rini nya juga cantik. Mungil pula skrg.\n",
      "proses tweet: ['ya', 'ampun', 'lakikny', 'ganteng', 'rini', 'nya', 'cantik', 'mungil', 'skrg']\n",
      "1\t0.49942685\tb'ya ampun lakikny ganteng rini nya cantik mungil skrg'\n",
      "\n",
      "\n"
     ]
    }
   ],
   "source": [
    "# Some error analysis \n",
    "print('Label Predicted Tweet')\n",
    "for x,y in zip(X_test,y_test):\n",
    "    y_hat = predict_tweet(x, freqs, theta)\n",
    "    if np.abs(y - (y_hat > 0.5)) > 0:\n",
    "        print('tweet:', x)\n",
    "        print('proses tweet:', process_tweet(x))\n",
    "        print('%d\\t%0.8f\\t%s' % (y, y_hat, ' '.join(process_tweet(x)).encode('ascii', 'ignore')))\n",
    "        print('\\n')"
   ]
  },
  {
   "cell_type": "markdown",
   "metadata": {},
   "source": [
    "# Predict own tweet"
   ]
  },
  {
   "cell_type": "code",
   "execution_count": 73,
   "metadata": {},
   "outputs": [
    {
     "name": "stdout",
     "output_type": "stream",
     "text": [
      "['loo', 'cari', 'gara-gara']\n",
      "[[0.4997834]]\n",
      "Negative sentiment\n"
     ]
    }
   ],
   "source": [
    "# coba predik\n",
    "my_tweet = \"\"\"\n",
    "kenapa loo, mau cari gara-gara\n",
    "\"\"\"\n",
    "print(process_tweet(my_tweet))\n",
    "y_hat = predict_tweet(my_tweet, freqs, theta)\n",
    "print(y_hat)\n",
    "if y_hat > 0.5:\n",
    "    print('Positive sentiment')\n",
    "else: \n",
    "    print('Negative sentiment')"
   ]
  }
 ],
 "metadata": {
  "colab": {
   "collapsed_sections": [
    "GQLN-l93iF2B",
    "LZMhPthAicoE",
    "Nh5funiyhB5G",
    "hEOOD0DD0HN9",
    "3nODmHg3LWsh",
    "TLe8VnOkMB7o",
    "GvIYq4rbRti6",
    "MQQiPZRWQ0cL",
    "YnrdXH8VTg54"
   ],
   "name": "instagram-sentimen-analisi.ipynb",
   "provenance": []
  },
  "kernelspec": {
   "display_name": "Python [conda env:jcop_usl]",
   "language": "python",
   "name": "conda-env-jcop_usl-py"
  },
  "language_info": {
   "codemirror_mode": {
    "name": "ipython",
    "version": 3
   },
   "file_extension": ".py",
   "mimetype": "text/x-python",
   "name": "python",
   "nbconvert_exporter": "python",
   "pygments_lexer": "ipython3",
   "version": "3.7.6"
  }
 },
 "nbformat": 4,
 "nbformat_minor": 1
}
