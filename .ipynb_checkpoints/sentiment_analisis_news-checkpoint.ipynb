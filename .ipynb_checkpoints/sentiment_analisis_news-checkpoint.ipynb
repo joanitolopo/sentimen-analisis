{
 "cells": [
  {
   "cell_type": "markdown",
   "metadata": {
    "id": "_W9PySRVUvi-"
   },
   "source": [
    "# Import Package"
   ]
  },
  {
   "cell_type": "code",
   "execution_count": 1,
   "metadata": {
    "colab": {
     "base_uri": "https://localhost:8080/"
    },
    "id": "JMNVyoKiUbcp",
    "outputId": "5174c67a-d409-41e3-8b03-959138dc950c"
   },
   "outputs": [
    {
     "name": "stdout",
     "output_type": "stream",
     "text": [
      "Collecting Sastrawi\n",
      "  Downloading Sastrawi-1.0.1-py2.py3-none-any.whl (209 kB)\n",
      "\u001b[?25l\r",
      "\u001b[K     |█▋                              | 10 kB 24.7 MB/s eta 0:00:01\r",
      "\u001b[K     |███▏                            | 20 kB 27.6 MB/s eta 0:00:01\r",
      "\u001b[K     |████▊                           | 30 kB 12.2 MB/s eta 0:00:01\r",
      "\u001b[K     |██████▎                         | 40 kB 9.5 MB/s eta 0:00:01\r",
      "\u001b[K     |███████▉                        | 51 kB 5.2 MB/s eta 0:00:01\r",
      "\u001b[K     |█████████▍                      | 61 kB 5.6 MB/s eta 0:00:01\r",
      "\u001b[K     |███████████                     | 71 kB 6.0 MB/s eta 0:00:01\r",
      "\u001b[K     |████████████▌                   | 81 kB 6.8 MB/s eta 0:00:01\r",
      "\u001b[K     |██████████████                  | 92 kB 6.5 MB/s eta 0:00:01\r",
      "\u001b[K     |███████████████▋                | 102 kB 5.4 MB/s eta 0:00:01\r",
      "\u001b[K     |█████████████████▏              | 112 kB 5.4 MB/s eta 0:00:01\r",
      "\u001b[K     |██████████████████▊             | 122 kB 5.4 MB/s eta 0:00:01\r",
      "\u001b[K     |████████████████████▎           | 133 kB 5.4 MB/s eta 0:00:01\r",
      "\u001b[K     |█████████████████████▉          | 143 kB 5.4 MB/s eta 0:00:01\r",
      "\u001b[K     |███████████████████████▍        | 153 kB 5.4 MB/s eta 0:00:01\r",
      "\u001b[K     |█████████████████████████       | 163 kB 5.4 MB/s eta 0:00:01\r",
      "\u001b[K     |██████████████████████████▋     | 174 kB 5.4 MB/s eta 0:00:01\r",
      "\u001b[K     |████████████████████████████▏   | 184 kB 5.4 MB/s eta 0:00:01\r",
      "\u001b[K     |█████████████████████████████▊  | 194 kB 5.4 MB/s eta 0:00:01\r",
      "\u001b[K     |███████████████████████████████▎| 204 kB 5.4 MB/s eta 0:00:01\r",
      "\u001b[K     |████████████████████████████████| 209 kB 5.4 MB/s \n",
      "\u001b[?25hInstalling collected packages: Sastrawi\n",
      "Successfully installed Sastrawi-1.0.1\n",
      "Requirement already satisfied: nltk in /usr/local/lib/python3.7/dist-packages (3.2.5)\n",
      "Requirement already satisfied: six in /usr/local/lib/python3.7/dist-packages (from nltk) (1.15.0)\n",
      "[nltk_data] Downloading package stopwords to /root/nltk_data...\n",
      "[nltk_data]   Unzipping corpora/stopwords.zip.\n",
      "[nltk_data] Downloading package punkt to /root/nltk_data...\n",
      "[nltk_data]   Unzipping tokenizers/punkt.zip.\n"
     ]
    },
    {
     "data": {
      "text/plain": [
       "True"
      ]
     },
     "execution_count": 1,
     "metadata": {},
     "output_type": "execute_result"
    }
   ],
   "source": [
    "#!pip install Sastrawi\n",
    "#!pip install nltk\n",
    "#import nltk \n",
    "#nltk.download('stopwords')\n",
    "#nltk.download('punkt')"
   ]
  },
  {
   "cell_type": "code",
   "execution_count": 23,
   "metadata": {
    "id": "4C1xiDUuU6MZ"
   },
   "outputs": [],
   "source": [
    "import numpy as np\n",
    "import pandas as pd\n",
    "import re\n",
    "import pickle\n",
    "from string import punctuation\n",
    "import os\n",
    "import json\n",
    "\n",
    "from nltk.corpus import stopwords\n",
    "from nltk.tokenize import word_tokenize\n",
    "\n",
    "from Sastrawi.Stemmer.StemmerFactory import StemmerFactory\n",
    "from Sastrawi.StopWordRemover.StopWordRemoverFactory import StopWordRemoverFactory\n",
    "\n",
    "from sklearn.model_selection import train_test_split"
   ]
  },
  {
   "cell_type": "markdown",
   "metadata": {
    "id": "lq7iEhZYVGqc"
   },
   "source": [
    "# Utils\n",
    "\n"
   ]
  },
  {
   "cell_type": "code",
   "execution_count": 3,
   "metadata": {
    "id": "Vcewf5COVFDa"
   },
   "outputs": [],
   "source": [
    "def process_tweet(tweet):\n",
    "    \n",
    "    # kumpulan stemming\n",
    "    factory_stem = StemmerFactory()\n",
    "    stemmer = factory_stem.create_stemmer()\n",
    "\n",
    "    # kumpulan stopwords\n",
    "    factory_stopwords = StopWordRemoverFactory()\n",
    "    stopword = factory_stopwords.get_stop_words() + stopwords.words('indonesian')\n",
    "  \n",
    "    # menghapus kata-kata yang tidak penting seperti @, #\n",
    "    tweet = re.sub(r'\\$\\w*', '', tweet)\n",
    "    tweet = re.sub(r'^RT[\\s]+', '', tweet)\n",
    "    tweet = re.sub(r'https?:\\/\\/.*[\\r\\n]*', '', tweet)\n",
    "    tweet = re.sub(r'#', '', tweet)\n",
    "    \n",
    "    # tokenizer word\n",
    "    tweet_tokens = word_tokenize(tweet)\n",
    "    \n",
    "    # membersihkan word\n",
    "    tweets_clean = [stemmer.stem(word) for word in tweet_tokens if (word not in stopword and word not in punctuation)]\n",
    "  \n",
    "    return tweets_clean"
   ]
  },
  {
   "cell_type": "code",
   "execution_count": 4,
   "metadata": {
    "id": "L6xNfSp9VUlP"
   },
   "outputs": [],
   "source": [
    "def build_freqs(tweets, ys):\n",
    "    \n",
    "    yslist = np.squeeze(ys).tolist()\n",
    "    \n",
    "    freqs = {}\n",
    "    for y, tweet in zip(yslist, tweets):\n",
    "        for word in process_tweet(tweet):\n",
    "            pair = (word, y)\n",
    "            if pair in freqs:\n",
    "                freqs[pair] += 1\n",
    "            else:\n",
    "                freqs[pair] = 1\n",
    "    return freqs"
   ]
  },
  {
   "cell_type": "markdown",
   "metadata": {
    "id": "R4hOn153VZP4"
   },
   "source": [
    "# Processing Data"
   ]
  },
  {
   "cell_type": "markdown",
   "metadata": {
    "id": "u416FKk_Vh1U"
   },
   "source": [
    "## Import Data"
   ]
  },
  {
   "cell_type": "code",
   "execution_count": 40,
   "metadata": {
    "colab": {
     "base_uri": "https://localhost:8080/",
     "height": 204
    },
    "id": "9gkQUHhsVW3M",
    "outputId": "fe64e13e-3fb3-4f16-924f-8af8aea980d4"
   },
   "outputs": [
    {
     "data": {
      "text/html": [
       "<div>\n",
       "<style scoped>\n",
       "    .dataframe tbody tr th:only-of-type {\n",
       "        vertical-align: middle;\n",
       "    }\n",
       "\n",
       "    .dataframe tbody tr th {\n",
       "        vertical-align: top;\n",
       "    }\n",
       "\n",
       "    .dataframe thead th {\n",
       "        text-align: right;\n",
       "    }\n",
       "</style>\n",
       "<table border=\"1\" class=\"dataframe\">\n",
       "  <thead>\n",
       "    <tr style=\"text-align: right;\">\n",
       "      <th></th>\n",
       "      <th>label</th>\n",
       "      <th>text</th>\n",
       "    </tr>\n",
       "  </thead>\n",
       "  <tbody>\n",
       "    <tr>\n",
       "      <th>0</th>\n",
       "      <td>Positive</td>\n",
       "      <td>Apa yang penting adalah membetulkan semula ali...</td>\n",
       "    </tr>\n",
       "    <tr>\n",
       "      <th>1</th>\n",
       "      <td>Neutral</td>\n",
       "      <td>ROS mesti merujuk perlembagaan</td>\n",
       "    </tr>\n",
       "    <tr>\n",
       "      <th>2</th>\n",
       "      <td>Negative</td>\n",
       "      <td>Akibatnya, DAP memperoleh kejayaan yang besar ...</td>\n",
       "    </tr>\n",
       "    <tr>\n",
       "      <th>3</th>\n",
       "      <td>Negative</td>\n",
       "      <td>Memang ada kegagalan dalam syarikat ini, kelem...</td>\n",
       "    </tr>\n",
       "    <tr>\n",
       "      <th>4</th>\n",
       "      <td>Neutral</td>\n",
       "      <td>Mungkin pertumbuhan dalam KDNK (Keluaran Dalam...</td>\n",
       "    </tr>\n",
       "  </tbody>\n",
       "</table>\n",
       "</div>"
      ],
      "text/plain": [
       "      label                                               text\n",
       "0  Positive  Apa yang penting adalah membetulkan semula ali...\n",
       "1   Neutral                     ROS mesti merujuk perlembagaan\n",
       "2  Negative  Akibatnya, DAP memperoleh kejayaan yang besar ...\n",
       "3  Negative  Memang ada kegagalan dalam syarikat ini, kelem...\n",
       "4   Neutral  Mungkin pertumbuhan dalam KDNK (Keluaran Dalam..."
      ]
     },
     "execution_count": 40,
     "metadata": {},
     "output_type": "execute_result"
    }
   ],
   "source": [
    "df = pd.read_csv(\"data/sentiment-news-bahasa-v3.csv\")\n",
    "df.head()"
   ]
  },
  {
   "cell_type": "code",
   "execution_count": 41,
   "metadata": {
    "colab": {
     "base_uri": "https://localhost:8080/"
    },
    "id": "NCRiXESHVrlv",
    "outputId": "553f5e5b-6ab1-4de7-9b3a-ef1fafebd0f1"
   },
   "outputs": [
    {
     "data": {
      "text/plain": [
       "Positive    2109\n",
       "Negative     993\n",
       "Neutral      746\n",
       "negative       1\n",
       "Name: label, dtype: int64"
      ]
     },
     "execution_count": 41,
     "metadata": {},
     "output_type": "execute_result"
    }
   ],
   "source": [
    "df.label.value_counts()"
   ]
  },
  {
   "cell_type": "code",
   "execution_count": 42,
   "metadata": {
    "id": "W8_woUPWZH3Q"
   },
   "outputs": [],
   "source": [
    "df = df.drop(df[df.label == 'negative'].index)\n",
    "df = df.drop(df[df.label == 'Neutral'].index)"
   ]
  },
  {
   "cell_type": "code",
   "execution_count": 43,
   "metadata": {
    "colab": {
     "base_uri": "https://localhost:8080/"
    },
    "id": "EYMe4mK3Zx2E",
    "outputId": "59f50441-955e-43ce-be2d-d484f7a31e61"
   },
   "outputs": [
    {
     "data": {
      "text/plain": [
       "Positive    0.679884\n",
       "Negative    0.320116\n",
       "Name: label, dtype: float64"
      ]
     },
     "execution_count": 43,
     "metadata": {},
     "output_type": "execute_result"
    }
   ],
   "source": [
    "df.label.value_counts(normalize=True)"
   ]
  },
  {
   "cell_type": "code",
   "execution_count": 44,
   "metadata": {
    "colab": {
     "base_uri": "https://localhost:8080/"
    },
    "id": "MTF9ZW80sm_n",
    "outputId": "2938a8f6-1a5b-46ca-e832-73bedabc7e4d"
   },
   "outputs": [
    {
     "data": {
      "text/plain": [
       "Positive    2109\n",
       "Negative     993\n",
       "Name: label, dtype: int64"
      ]
     },
     "execution_count": 44,
     "metadata": {},
     "output_type": "execute_result"
    }
   ],
   "source": [
    "df.label.value_counts()"
   ]
  },
  {
   "cell_type": "markdown",
   "metadata": {
    "id": "AU4lpYt2cfW1"
   },
   "source": [
    "## Split Dataset"
   ]
  },
  {
   "cell_type": "code",
   "execution_count": 45,
   "metadata": {
    "id": "7bHP7soFafT0"
   },
   "outputs": [],
   "source": [
    "df.loc[(df.label == 'Positive'),'label']=0\n",
    "df.loc[(df.label == 'Negative'),'label']=1"
   ]
  },
  {
   "cell_type": "code",
   "execution_count": 46,
   "metadata": {
    "id": "aRvdgy92b0ye"
   },
   "outputs": [],
   "source": [
    "X = pd.DataFrame(df['text'])\n",
    "y = df.label"
   ]
  },
  {
   "cell_type": "code",
   "execution_count": 47,
   "metadata": {
    "id": "EHrYCfFYcYhn"
   },
   "outputs": [],
   "source": [
    "X_train, X_test, y_train, y_test = train_test_split(X, y, test_size=0.2, random_state=42)"
   ]
  },
  {
   "cell_type": "code",
   "execution_count": 48,
   "metadata": {
    "id": "7MOoCBndcmSH"
   },
   "outputs": [],
   "source": [
    "X_train = X_train.values.squeeze().tolist()\n",
    "X_test = X_test.values.squeeze().tolist()\n",
    "y_train = np.array([y_train.values.squeeze().tolist()])\n",
    "y_test = np.array([y_test.values.squeeze().tolist()])"
   ]
  },
  {
   "cell_type": "code",
   "execution_count": 49,
   "metadata": {
    "colab": {
     "base_uri": "https://localhost:8080/",
     "height": 86
    },
    "id": "7bDn8bkFcp13",
    "outputId": "bac58ae1-e22f-4fac-c3d5-3f1f707e617b"
   },
   "outputs": [
    {
     "data": {
      "application/vnd.google.colaboratory.intrinsic+json": {
       "type": "string"
      },
      "text/plain": [
       "'Instrumennya ataupun vehicle antara yang paling penting adalah PNB sebab itulah hari ini bila kita sambut 40 tahun PNB, kita juga sambut kejayaan dasar-dasar induk kerajaan untuk tentukan masyarakat yang lebih adil dan saksama (kekayaan) dan kemudian untuk melihat kepada sebuah masyarakat lebih kukuh dan bersatu padu'"
      ]
     },
     "execution_count": 49,
     "metadata": {},
     "output_type": "execute_result"
    }
   ],
   "source": [
    "X_train[0]"
   ]
  },
  {
   "cell_type": "markdown",
   "metadata": {
    "id": "RnjggMsJd6hR"
   },
   "source": [
    "## Build freqs"
   ]
  },
  {
   "cell_type": "code",
   "execution_count": 22,
   "metadata": {
    "id": "0yK12mg6cruY"
   },
   "outputs": [],
   "source": [
    "# freqs = build_freqs(X_train, y_train)"
   ]
  },
  {
   "cell_type": "code",
   "execution_count": 25,
   "metadata": {
    "id": "YifgEKmJe8vo"
   },
   "outputs": [],
   "source": [
    "# with open('freqs_news.json', 'wb') as fp:\n",
    "    # pickle.dump(freqs, fp)"
   ]
  },
  {
   "cell_type": "code",
   "execution_count": 50,
   "metadata": {
    "colab": {
     "base_uri": "https://localhost:8080/"
    },
    "id": "lRzEksw2tSGK",
    "outputId": "83e9d9ef-20ae-45fa-a1ec-c482b579a2ca"
   },
   "outputs": [
    {
     "name": "stdout",
     "output_type": "stream",
     "text": [
      "type(freqs) = <class 'dict'>\n",
      "len(freqs) = 6401\n"
     ]
    }
   ],
   "source": [
    "# check output\n",
    "print(\"type(freqs) = \" + str(type(freqs)))\n",
    "print(\"len(freqs) = \" + str(len(freqs.keys())))"
   ]
  },
  {
   "cell_type": "markdown",
   "metadata": {
    "id": "GONY6H_HtY7B"
   },
   "source": [
    "## Process Tweet"
   ]
  },
  {
   "cell_type": "code",
   "execution_count": 51,
   "metadata": {
    "colab": {
     "base_uri": "https://localhost:8080/"
    },
    "id": "r8kIzDuCtSyz",
    "outputId": "5c915a6d-109c-49b4-8f02-f7151467bbf2"
   },
   "outputs": [
    {
     "name": "stdout",
     "output_type": "stream",
     "text": [
      "Contoh sample positive tweet: \n",
      " Kesedaran dan pelaporan orang awam melalui saluran yang sedia ada boleh mencegah kejadian ini daripada berulang serta keselamatan dan nyawa seorang kanak-kanak yang mempunyai masa depan tidak disia-siakan melalui perbuatan yang tidak bertanggungjawab\n",
      "\n",
      "Contoh yang sudah di proses: \n",
      " ['dar', 'lapor', 'orang', 'awam', 'salur', 'sedia', 'cegah', 'jadi', 'ulang', 'selamat', 'nyawa', 'kanak-kanak', 'sia', 'buat', 'bertanggungjawab']\n"
     ]
    }
   ],
   "source": [
    "# test proses fungsi\n",
    "print('Contoh sample positive tweet: \\n', X_train[1])\n",
    "print('\\nContoh yang sudah di proses: \\n', process_tweet(X_train[1]))"
   ]
  },
  {
   "cell_type": "markdown",
   "metadata": {
    "id": "w4_jveDutjEb"
   },
   "source": [
    "# Logistic Algorithm"
   ]
  },
  {
   "cell_type": "markdown",
   "metadata": {
    "id": "l5s_LO2rtne_"
   },
   "source": [
    "## Sigmoid Function"
   ]
  },
  {
   "cell_type": "code",
   "execution_count": 52,
   "metadata": {
    "id": "az0KGCT5tcAO"
   },
   "outputs": [],
   "source": [
    "def sigmoid(z):\n",
    "    \n",
    "    h = 1/(1+np.exp(-z))\n",
    "    \n",
    "    return h"
   ]
  },
  {
   "cell_type": "code",
   "execution_count": 53,
   "metadata": {
    "colab": {
     "base_uri": "https://localhost:8080/"
    },
    "id": "4hQ2j3lYtfTP",
    "outputId": "c2b093c9-5392-4193-a231-9e182d196199"
   },
   "outputs": [
    {
     "name": "stdout",
     "output_type": "stream",
     "text": [
      "SUCCESS!\n"
     ]
    }
   ],
   "source": [
    "# Testing fungsi \n",
    "if (sigmoid(0) == 0.5):\n",
    "    print('SUCCESS!')\n",
    "else:\n",
    "    print('Oops!')"
   ]
  },
  {
   "cell_type": "markdown",
   "metadata": {
    "id": "NtYjUg_atx48"
   },
   "source": [
    "## Cost Function"
   ]
  },
  {
   "cell_type": "code",
   "execution_count": 54,
   "metadata": {
    "id": "TLXgIzt_t0rn"
   },
   "outputs": [],
   "source": [
    "def linreg_cost_func(x, y, m, h):\n",
    "    \n",
    "    # calculate fungsi cost\n",
    "    J = -1/m * (np.dot(y.T, np.log(h)) + (np.dot((1-y).T, np.log(1-h))))\n",
    "\n",
    "    return J"
   ]
  },
  {
   "cell_type": "markdown",
   "metadata": {
    "id": "ThoX84PLt7nZ"
   },
   "source": [
    "## Gradient Descent"
   ]
  },
  {
   "cell_type": "code",
   "execution_count": 55,
   "metadata": {
    "id": "BV4k7DZXt4a5"
   },
   "outputs": [],
   "source": [
    "def gradientDescent(x, y, theta, alpha, num_iters):\n",
    "    \n",
    "    m = x.shape[0]\n",
    "    \n",
    "    for i in range(0, num_iters):\n",
    "        \n",
    "        # feed forward\n",
    "        z = np.dot(x, theta)\n",
    "        h = sigmoid(z)\n",
    "\n",
    "        # hitung cost\n",
    "        J = linreg_cost_func(x, y, m, h)\n",
    "        \n",
    "        # update weight\n",
    "        theta = theta - ((alpha/m) * (np.dot(x.T, h-y)))\n",
    "        \n",
    "        print(f'\\rIterasi: {i+1}/{num_iters}', end='')\n",
    "\n",
    "    J = float(J)\n",
    "    return J, theta"
   ]
  },
  {
   "cell_type": "code",
   "execution_count": 56,
   "metadata": {
    "colab": {
     "base_uri": "https://localhost:8080/"
    },
    "id": "OZXTMi9ut_I_",
    "outputId": "49cf8198-bed2-43b4-dfa4-c051944dfefb"
   },
   "outputs": [
    {
     "name": "stdout",
     "output_type": "stream",
     "text": [
      "Iterasi: 2000/2000\n",
      "Cost setelah training adalah 0.65476423.\n"
     ]
    }
   ],
   "source": [
    "# testing fungsi\n",
    "np.random.seed(1)\n",
    "tmp_X = np.append(np.ones((10, 1)), np.random.rand(10, 2) * 2000, axis=1)\n",
    "tmp_Y = (np.random.rand(10, 1) > 0.35).astype(float)\n",
    "\n",
    "\n",
    "# Apply gradient descent\n",
    "tmp_J, tmp_theta = gradientDescent(tmp_X, tmp_Y, np.zeros((3, 1)), 1e-8, 2000)\n",
    "print(f\"\\nCost setelah training adalah {tmp_J:.8f}.\")"
   ]
  },
  {
   "cell_type": "markdown",
   "metadata": {
    "id": "Js4W5zwvuDWJ"
   },
   "source": [
    "# Extract Features"
   ]
  },
  {
   "cell_type": "code",
   "execution_count": 57,
   "metadata": {
    "id": "BNKHiApLuBPe"
   },
   "outputs": [],
   "source": [
    "def extract_features(tweet, freqs):\n",
    "    \n",
    "    # process_tweet tokenizes, stems, dan hapus stopwords\n",
    "    word_l = process_tweet(tweet)\n",
    "    \n",
    "    # inisiasi x dengan nilai 0 dalam bentuk matriks 1x3 \n",
    "    x = np.zeros((1, 3)) \n",
    "    \n",
    "    # inisiasi bias dengan 1\n",
    "    x[0,0] = 1 \n",
    "        \n",
    "    for word in word_l:\n",
    "        \n",
    "        # increment the word count for the positive label 1\n",
    "        x[0,1] += freqs.get((word, 1.0),0)\n",
    "        \n",
    "        # increment the word count for the negative label 0\n",
    "        x[0,2] += freqs.get((word, 0.0),0)\n",
    "        \n",
    "    assert(x.shape == (1, 3))\n",
    "    return x"
   ]
  },
  {
   "cell_type": "code",
   "execution_count": 58,
   "metadata": {
    "colab": {
     "base_uri": "https://localhost:8080/"
    },
    "id": "k8HO0nLGuHPy",
    "outputId": "424638e5-fad7-43b1-dc8c-bd0ad30d21c0"
   },
   "outputs": [
    {
     "name": "stdout",
     "output_type": "stream",
     "text": [
      "[[  1. 166. 332.]]\n"
     ]
    }
   ],
   "source": [
    "# test fungsi\n",
    "tmp1 = extract_features(X_train[5], freqs)\n",
    "print(tmp1)"
   ]
  },
  {
   "cell_type": "code",
   "execution_count": 60,
   "metadata": {
    "colab": {
     "base_uri": "https://localhost:8080/"
    },
    "id": "_fzw_eyKuJOP",
    "outputId": "7b876376-bb76-4021-af8d-c62bb0dd5f1d"
   },
   "outputs": [
    {
     "name": "stdout",
     "output_type": "stream",
     "text": [
      "[[  1.  72. 242.]]\n"
     ]
    }
   ],
   "source": [
    "tmp2 = extract_features('Semua maklumat akan disalurkan bukan hanya kepada Aseanapol (Polis Asean) tetapi kepada Interpol (Polis Antarabangsa) supaya senarai suspek atau sebarang data yang diperoleh dapat menarik perhatian antarabangsa', freqs)\n",
    "print(tmp2)"
   ]
  },
  {
   "cell_type": "markdown",
   "metadata": {
    "id": "gMBoa3h3uaYg"
   },
   "source": [
    "# Training Model"
   ]
  },
  {
   "cell_type": "markdown",
   "metadata": {
    "id": "ZK6wEZquugYG"
   },
   "source": [
    "## Extract Features"
   ]
  },
  {
   "cell_type": "code",
   "execution_count": 61,
   "metadata": {
    "colab": {
     "base_uri": "https://localhost:8080/"
    },
    "id": "FG3nc8s1uWn3",
    "outputId": "986914c4-21f2-4178-eb94-a2dd1c6b19ea"
   },
   "outputs": [
    {
     "name": "stdout",
     "output_type": "stream",
     "text": [
      "Extract: 2481/2481 "
     ]
    }
   ],
   "source": [
    "X = np.zeros((len(X_train), 3))\n",
    "for i in range(len(X_train)):\n",
    "    X[i, :]= extract_features(X_train[i], freqs)\n",
    "    print(f'\\rExtract: {i+1}/{len(X_train)}', end=' ')"
   ]
  },
  {
   "cell_type": "code",
   "execution_count": 62,
   "metadata": {
    "id": "6JdrEf1xybG3"
   },
   "outputs": [],
   "source": [
    "Y = y_train.T"
   ]
  },
  {
   "cell_type": "code",
   "execution_count": 63,
   "metadata": {
    "id": "klAXbQ6LupuG"
   },
   "outputs": [],
   "source": [
    "config = {\n",
    "    'input': X,\n",
    "    'output':Y,\n",
    "    'alpha':1e-8,\n",
    "    'theta':np.zeros((3, 1)),\n",
    "    'num_iters':2000\n",
    "}"
   ]
  },
  {
   "cell_type": "code",
   "execution_count": 65,
   "metadata": {
    "id": "HNHfW_BvyfLP"
   },
   "outputs": [],
   "source": [
    "with open('model01.pickle', 'wb') as fp:\n",
    "    pickle.dump(config, fp)"
   ]
  },
  {
   "cell_type": "markdown",
   "metadata": {
    "id": "0FXG1yKMyrLi"
   },
   "source": [
    "## Train model"
   ]
  },
  {
   "cell_type": "code",
   "execution_count": 66,
   "metadata": {
    "colab": {
     "base_uri": "https://localhost:8080/"
    },
    "id": "ZMpWJ6zkyjHK",
    "outputId": "4e0a7d8a-b83e-4355-ceec-5ab17fdad8e4"
   },
   "outputs": [
    {
     "name": "stdout",
     "output_type": "stream",
     "text": [
      "Iterasi: 2000/2000\n",
      "Cost setelah training adalah 0.64063183.\n"
     ]
    }
   ],
   "source": [
    "# Apply gradient descent\n",
    "J, theta = gradientDescent(config['input'], config['output'], config['theta'], config['alpha'], config['num_iters'])\n",
    "print(f\"\\nCost setelah training adalah {J:.8f}.\")"
   ]
  },
  {
   "cell_type": "code",
   "execution_count": 67,
   "metadata": {
    "colab": {
     "base_uri": "https://localhost:8080/"
    },
    "id": "OJgfWVpUywSh",
    "outputId": "9fe1e73e-aac0-4db0-8e0e-adb3afdcf41a"
   },
   "outputs": [
    {
     "data": {
      "text/plain": [
       "array([[-2.86649639e-06],\n",
       "       [-2.50912085e-04],\n",
       "       [-9.71441190e-04]])"
      ]
     },
     "execution_count": 67,
     "metadata": {},
     "output_type": "execute_result"
    }
   ],
   "source": [
    "theta"
   ]
  },
  {
   "cell_type": "code",
   "execution_count": 68,
   "metadata": {
    "id": "xYaM_t4Ey07x"
   },
   "outputs": [],
   "source": [
    "with open('theta01t.wt', 'wb') as fp:\n",
    "    pickle.dump(theta, fp)"
   ]
  },
  {
   "cell_type": "markdown",
   "metadata": {
    "id": "bDeT2sgOzBQw"
   },
   "source": [
    "# Test Logistic Regression"
   ]
  },
  {
   "cell_type": "code",
   "execution_count": 69,
   "metadata": {
    "id": "rh9RbUQEy6ju"
   },
   "outputs": [],
   "source": [
    "def predict_tweet(tweet, freqs, theta):\n",
    "\n",
    "    # extract features dari tweet dan simpan di dalam x\n",
    "    x = extract_features(tweet, freqs)\n",
    "    \n",
    "    # buat prediksi menggunakan x dan bobot (theta)\n",
    "    y_pred = sigmoid(np.dot(x, theta))\n",
    "    \n",
    "    return y_pred"
   ]
  },
  {
   "cell_type": "code",
   "execution_count": 71,
   "metadata": {
    "colab": {
     "base_uri": "https://localhost:8080/"
    },
    "id": "jfBzl3nOzLZn",
    "outputId": "440886f5-ac5a-452a-a0b5-1bafd2ed3a60"
   },
   "outputs": [
    {
     "name": "stdout",
     "output_type": "stream",
     "text": [
      "Tidak adil jika kita hanya menjalankan -> 0.475902\n"
     ]
    }
   ],
   "source": [
    "# Run this cell to test your function\n",
    "for tweet in ['Tidak adil jika kita hanya menjalankan']:\n",
    "    print( '%s -> %f' % (tweet, predict_tweet(tweet, freqs, theta)))"
   ]
  },
  {
   "cell_type": "markdown",
   "metadata": {
    "id": "FOnxNUDwzf5D"
   },
   "source": [
    "# Check Perfomance"
   ]
  },
  {
   "cell_type": "code",
   "execution_count": 72,
   "metadata": {
    "id": "bVF83JHwzY8W"
   },
   "outputs": [],
   "source": [
    "def test_logistic_regression(test_x, test_y, freqs, theta):\n",
    "\n",
    "    \n",
    "    # the list for storing predictions\n",
    "    y_hat = []\n",
    "    \n",
    "    for tweet in test_x:\n",
    "        \n",
    "        y_pred = predict_tweet(tweet, freqs, theta)\n",
    "        \n",
    "        if y_pred > 0.5:\n",
    "            # append 1.0 to the list\n",
    "            y_hat.append(1)\n",
    "        else:\n",
    "            # append 0 to the list\n",
    "            y_hat.append(0)\n",
    "\n",
    "    accuracy = (y_hat==np.squeeze(test_y)).sum()/len(test_x)\n",
    "    \n",
    "    return accuracy"
   ]
  },
  {
   "cell_type": "code",
   "execution_count": 73,
   "metadata": {
    "colab": {
     "base_uri": "https://localhost:8080/"
    },
    "id": "m9UGhitdzj0e",
    "outputId": "25e22dea-a3d1-4473-bcd8-9747d8dba5b0"
   },
   "outputs": [
    {
     "name": "stdout",
     "output_type": "stream",
     "text": [
      "Logistic regression model's accuracy = 0.6473\n"
     ]
    }
   ],
   "source": [
    "tmp_accuracy = test_logistic_regression(X_test, y_test, freqs, theta)\n",
    "print(f\"Logistic regression model's accuracy = {tmp_accuracy:.4f}\")"
   ]
  },
  {
   "cell_type": "markdown",
   "metadata": {
    "id": "jv_VI97r2Q7M"
   },
   "source": [
    "# Predict on Tweet"
   ]
  },
  {
   "cell_type": "code",
   "execution_count": 78,
   "metadata": {
    "colab": {
     "base_uri": "https://localhost:8080/",
     "height": 35
    },
    "id": "qfDQmzmb3FbC",
    "outputId": "52a27e69-cfba-459a-f0d6-0b809c00d4b0"
   },
   "outputs": [
    {
     "data": {
      "application/vnd.google.colaboratory.intrinsic+json": {
       "type": "string"
      },
      "text/plain": [
       "'semakin rendah jumlah pengundi melaksanakan tanggungjawab mereka untuk mengundi, semakin tidak jelas jumlah majoriti'"
      ]
     },
     "execution_count": 78,
     "metadata": {},
     "output_type": "execute_result"
    }
   ],
   "source": [
    "X_test[5]"
   ]
  },
  {
   "cell_type": "code",
   "execution_count": 79,
   "metadata": {
    "colab": {
     "base_uri": "https://localhost:8080/"
    },
    "id": "FZqzl6mZ1wjm",
    "outputId": "73d9b6e5-100e-42b9-8371-4ff8cd4e00c4"
   },
   "outputs": [
    {
     "name": "stdout",
     "output_type": "stream",
     "text": [
      "['rendah', 'undi', 'laksana', 'tanggungjawab', 'undi', 'majoriti']\n",
      "[[0.4295413]]\n",
      "Negative sentiment\n"
     ]
    }
   ],
   "source": [
    "# coba predik\n",
    "my_tweet = \"\"\"\n",
    "semakin rendah jumlah pengundi melaksanakan tanggungjawab mereka untuk mengundi, \n",
    "semakin tidak jelas jumlah majoriti\n",
    "\"\"\"\n",
    "print(process_tweet(my_tweet))\n",
    "y_hat = predict_tweet(my_tweet, freqs, theta)\n",
    "print(y_hat)\n",
    "if y_hat > 0.5:\n",
    "    print('Positive sentiment')\n",
    "else: \n",
    "    print('Negative sentiment')"
   ]
  }
 ],
 "metadata": {
  "accelerator": "GPU",
  "colab": {
   "collapsed_sections": [
    "_W9PySRVUvi-",
    "lq7iEhZYVGqc"
   ],
   "name": "sentiment-analisis-news.ipynb",
   "provenance": []
  },
  "kernelspec": {
   "display_name": "Python [conda env:jcop_usl]",
   "language": "python",
   "name": "conda-env-jcop_usl-py"
  },
  "language_info": {
   "codemirror_mode": {
    "name": "ipython",
    "version": 3
   },
   "file_extension": ".py",
   "mimetype": "text/x-python",
   "name": "python",
   "nbconvert_exporter": "python",
   "pygments_lexer": "ipython3",
   "version": "3.7.6"
  }
 },
 "nbformat": 4,
 "nbformat_minor": 1
}
